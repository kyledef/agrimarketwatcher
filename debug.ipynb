{
 "cells": [
  {
   "cell_type": "code",
   "execution_count": null,
   "metadata": {},
   "outputs": [],
   "source": [
    "from fetcher import process_run_get_month\n",
    "from models import store_most_recent_daily, store_most_recent_monthly"
   ]
  },
  {
   "cell_type": "code",
   "execution_count": null,
   "metadata": {},
   "outputs": [],
   "source": [
    "month_record, daily_records = process_run_get_month(9, 2020)\n",
    "print('Months: ', len(month_record))\n",
    "print('Daily Records', len(daily_records))"
   ]
  },
  {
   "cell_type": "code",
   "execution_count": null,
   "metadata": {},
   "outputs": [],
   "source": [
    "store_most_recent_daily(daily_records[-1])"
   ]
  },
  {
   "cell_type": "code",
   "execution_count": null,
   "metadata": {},
   "outputs": [],
   "source": [
    "store_most_recent_monthly(month_record)"
   ]
  },
  {
   "cell_type": "code",
   "execution_count": null,
   "metadata": {},
   "outputs": [],
   "source": [
    "from models import store_monthly, store_daily"
   ]
  },
  {
   "cell_type": "code",
   "execution_count": null,
   "metadata": {},
   "outputs": [],
   "source": [
    "store_monthly(month_record)"
   ]
  },
  {
   "cell_type": "code",
   "execution_count": null,
   "metadata": {},
   "outputs": [],
   "source": []
  },
  {
   "cell_type": "code",
   "execution_count": null,
   "metadata": {},
   "outputs": [],
   "source": [
    "from fetcher import run_get_all\n",
    "result = run_get_all(store_data=True, years=[2020], months=['October'])"
   ]
  },
  {
   "cell_type": "code",
   "execution_count": null,
   "metadata": {},
   "outputs": [],
   "source": [
    "len(result['monthly'])"
   ]
  },
  {
   "cell_type": "code",
   "execution_count": null,
   "metadata": {},
   "outputs": [],
   "source": [
    "len(result['daily'])"
   ]
  },
  {
   "cell_type": "code",
   "execution_count": null,
   "metadata": {},
   "outputs": [],
   "source": [
    "len(result['most_recent_daily'])"
   ]
  },
  {
   "cell_type": "code",
   "execution_count": null,
   "metadata": {},
   "outputs": [],
   "source": [
    "store_daily(result['daily'])"
   ]
  },
  {
   "cell_type": "code",
   "execution_count": null,
   "metadata": {},
   "outputs": [],
   "source": [
    "from models import db, DailyCropsRecent"
   ]
  },
  {
   "cell_type": "code",
   "execution_count": null,
   "metadata": {},
   "outputs": [],
   "source": [
    "from models import store_most_recent_daily"
   ]
  },
  {
   "cell_type": "code",
   "execution_count": null,
   "metadata": {},
   "outputs": [],
   "source": [
    "store_most_recent_daily(result['most_recent_daily'])"
   ]
  },
  {
   "cell_type": "code",
   "execution_count": null,
   "metadata": {},
   "outputs": [],
   "source": [
    "def get_distinct_commodity():\n",
    "    commodities =  list(db.session.query(DailyCropsRecent.commodity).distinct())\n",
    "    return [commodity[0] for commodity in commodities]"
   ]
  },
  {
   "cell_type": "code",
   "execution_count": null,
   "metadata": {},
   "outputs": [],
   "source": [
    "get_distinct_commodity()"
   ]
  },
  {
   "cell_type": "code",
   "execution_count": null,
   "metadata": {},
   "outputs": [],
   "source": [
    "def get_distinct_categories():\n",
    "    categories = list(db.session.query(DailyCropsRecent.category).distinct())\n",
    "    return [category[0] for category in categories]"
   ]
  },
  {
   "cell_type": "code",
   "execution_count": null,
   "metadata": {},
   "outputs": [],
   "source": [
    "get_distinct_categories()"
   ]
  },
  {
   "cell_type": "code",
   "execution_count": null,
   "metadata": {},
   "outputs": [],
   "source": [
    "def get_distinct_commodity_by_category(category):\n",
    "    commodities = db.session.query(DailyCropsRecent).filter(DailyCropsRecent.category == category).distinct(DailyCropsRecent.commodity)\n",
    "    return [rec.commodity for rec in commodities]"
   ]
  },
  {
   "cell_type": "code",
   "execution_count": null,
   "metadata": {},
   "outputs": [],
   "source": [
    "get_distinct_commodity_by_category('ROOT CROPS')"
   ]
  },
  {
   "cell_type": "code",
   "execution_count": null,
   "metadata": {},
   "outputs": [],
   "source": [
    "from sqlalchemy import func\n",
    "query = db.session.query(DailyCropsRecent)\n",
    "query.filter(func.lower(DailyCropsRecent.commodity) == func.lower('CARROT')).all()"
   ]
  },
  {
   "cell_type": "code",
   "execution_count": null,
   "metadata": {},
   "outputs": [],
   "source": [
    "from sqlalchemy import func\n",
    "from models import DailyCrops\n",
    "query = db.session.query(DailyCrops)\n",
    "query = query.filter(func.lower(DailyCrops.commodity) == func.lower('cassava'))"
   ]
  },
  {
   "cell_type": "code",
   "execution_count": null,
   "metadata": {},
   "outputs": [],
   "source": [
    "query_results = query.all()"
   ]
  },
  {
   "cell_type": "code",
   "execution_count": null,
   "metadata": {},
   "outputs": [],
   "source": [
    "def process_results(query_results):\n",
    "    return [rec.as_dict() for rec in query_results]"
   ]
  },
  {
   "cell_type": "code",
   "execution_count": null,
   "metadata": {},
   "outputs": [],
   "source": [
    "process_results(query_results)"
   ]
  },
  {
   "cell_type": "code",
   "execution_count": null,
   "metadata": {},
   "outputs": [],
   "source": [
    "from datetime import datetime\n",
    "end = datetime.now()\n",
    "end"
   ]
  },
  {
   "cell_type": "code",
   "execution_count": null,
   "metadata": {},
   "outputs": [],
   "source": [
    "from models import db, DailyCrops\n",
    "res = db.session.query(DailyCrops.date).distinct().limit(5).offset(0).all()"
   ]
  },
  {
   "cell_type": "code",
   "execution_count": null,
   "metadata": {},
   "outputs": [],
   "source": [
    "[x.date.strftime('%Y-%m-%dT%H:%M:%S') for x in res]"
   ]
  },
  {
   "cell_type": "code",
   "execution_count": null,
   "metadata": {},
   "outputs": [],
   "source": [
    "from sqlalchemy import func\n",
    "category = 'root crops'\n",
    "query = db.session.query(DailyCrops)\n",
    "query = query.filter(func.upper(DailyCrops.category) == func.upper(category))\n",
    "query_results = query.all()\n",
    "process_results(query_results)"
   ]
  },
  {
   "cell_type": "code",
   "execution_count": 1,
   "metadata": {},
   "outputs": [],
   "source": [
    "from sqlalchemy import func\n",
    "from models import db, DailyCropsRecent"
   ]
  },
  {
   "cell_type": "code",
   "execution_count": null,
   "metadata": {},
   "outputs": [],
   "source": [
    "res = db.session.query(DailyCropsRecent.commodity).distinct().all()\n",
    "[x for x in res]"
   ]
  },
  {
   "cell_type": "code",
   "execution_count": null,
   "metadata": {},
   "outputs": [],
   "source": [
    "from sqlalchemy import or_\n",
    "crops = ['carrot', 'cassava', 'ginger', 'celery']\n",
    "query = db.session.query(DailyCropsRecent)\n",
    "res = query.filter(or_(DailyCropsRecent.commodity == v for v in crops)).all()\n",
    "\n",
    "[x.as_dict() for x in res]"
   ]
  },
  {
   "cell_type": "code",
   "execution_count": 8,
   "metadata": {},
   "outputs": [
    {
     "data": {
      "text/plain": [
       "[u'carrot',\n",
       " u'cassava',\n",
       " u'yam (local)',\n",
       " u'yam (imported)',\n",
       " u'dasheen(local)',\n",
       " u'dasheen(imported)',\n",
       " u'eddoe (local)',\n",
       " u'eddoe (imported)',\n",
       " u'sweet potato (local)',\n",
       " u'sweet potato (imported)',\n",
       " u'ginger',\n",
       " u'celery',\n",
       " u'chive (l)',\n",
       " u'thyme (s)',\n",
       " u\"hot pepper (100's)\",\n",
       " u'hot pepper (40 lb)',\n",
       " u'shadon beni',\n",
       " u'pimento (s)',\n",
       " u'pimento (m)',\n",
       " u'pimento (l)',\n",
       " u'lettuce (s)',\n",
       " u'lettuce (m)',\n",
       " u'lettuce (l)',\n",
       " u'patchoi',\n",
       " u'spinach (amarantus spp.)',\n",
       " u'cabbage (imported) (gn)',\n",
       " u'cabbage(local) (gn)',\n",
       " u'cabbage (white)',\n",
       " u'cabbage (imported) (purple)',\n",
       " u'callaloo bush (open)',\n",
       " u'callaloo bush (roll)',\n",
       " u'cauliflower(imported)',\n",
       " u'cauliflower (local)',\n",
       " u'bodi bean',\n",
       " u'seim bean',\n",
       " u'pigeon pea',\n",
       " u'cucumber',\n",
       " u'melongene (s)',\n",
       " u'melongene (m)',\n",
       " u'melongene (l)',\n",
       " u'ochro',\n",
       " u'plantain (green)',\n",
       " u'plantain (ripe)',\n",
       " u'pumpkin',\n",
       " u'sweet pepper (s)',\n",
       " u'sweet pepper (m)',\n",
       " u'sweet pepper (l)',\n",
       " u'sweet pepper (imported)',\n",
       " u'tomato (s)',\n",
       " u'tomato (m)',\n",
       " u'tomato (l)',\n",
       " u'tomato (imported)',\n",
       " u'caraillie (s)',\n",
       " u'caraillie (m)',\n",
       " u'caraillie (l)',\n",
       " u'squash',\n",
       " u'christophene',\n",
       " u'coconut (dry) (l)',\n",
       " u'coconut (dry) (m)',\n",
       " u'coconut (dry) (s)',\n",
       " u'banana (ripe)',\n",
       " u'banana (green)',\n",
       " u'banana (gr.michel)',\n",
       " u'paw paw',\n",
       " u'pineapple',\n",
       " u'watermelon',\n",
       " u'sorrel',\n",
       " u'lime (s)',\n",
       " u'lime (m)',\n",
       " u'lime (l)',\n",
       " u'grapefruit',\n",
       " u'orange (s)',\n",
       " u'orange (m)',\n",
       " u'orange (l)',\n",
       " u'orange (navel)',\n",
       " u'orange (king)',\n",
       " u'portugal']"
      ]
     },
     "execution_count": 8,
     "metadata": {},
     "output_type": "execute_result"
    }
   ],
   "source": [
    "from models import db, DailyCropsRecent\n",
    "res = db.session.query(DailyCropsRecent.commodity).distinct()\n",
    "[x[0] for x in res]"
   ]
  },
  {
   "cell_type": "code",
   "execution_count": null,
   "metadata": {},
   "outputs": [],
   "source": []
  }
 ],
 "metadata": {
  "kernelspec": {
   "display_name": "Python 2",
   "language": "python",
   "name": "python2"
  },
  "language_info": {
   "codemirror_mode": {
    "name": "ipython",
    "version": 2
   },
   "file_extension": ".py",
   "mimetype": "text/x-python",
   "name": "python",
   "nbconvert_exporter": "python",
   "pygments_lexer": "ipython2",
   "version": "2.7.17"
  }
 },
 "nbformat": 4,
 "nbformat_minor": 2
}
