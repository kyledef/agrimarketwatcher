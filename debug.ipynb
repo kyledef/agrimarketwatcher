{
 "cells": [
  {
   "cell_type": "code",
   "execution_count": 1,
   "metadata": {},
   "outputs": [],
   "source": [
    "from fetcher import process_run_get_month\n",
    "from models import store_most_recent_daily, store_most_recent_monthly"
   ]
  },
  {
   "cell_type": "code",
   "execution_count": 2,
   "metadata": {},
   "outputs": [
    {
     "name": "stdout",
     "output_type": "stream",
     "text": [
      "2021-04-30 20:44:42,095,95 INFO     [fetcher.py:339] Attempting to retrieve month 9 and 2020\n"
     ]
    },
    {
     "name": "stderr",
     "output_type": "stream",
     "text": [
      "INFO:agrimarketwatcher:Attempting to retrieve month 9 and 2020\n"
     ]
    },
    {
     "name": "stdout",
     "output_type": "stream",
     "text": [
      "2021-04-30 20:44:42,751,751 INFO     [fetcher.py:342] Data for 9-2020 was successful\n"
     ]
    },
    {
     "name": "stderr",
     "output_type": "stream",
     "text": [
      "INFO:agrimarketwatcher:Data for 9-2020 was successful\n"
     ]
    },
    {
     "name": "stdout",
     "output_type": "stream",
     "text": [
      "2021-04-30 20:44:42,798,798 INFO     [fetcher.py:328] Attempting to retrieve day 3-9-2020\n",
      "2021-04-30 20:44:42,798,798 INFO     [fetcher.py:328] Attempting to retrieve day 7-9-2020\n",
      "2021-04-30 20:44:42,798,798 INFO     [fetcher.py:328] Attempting to retrieve day 1-9-2020\n",
      "2021-04-30 20:44:42,798,798 INFO     [fetcher.py:328] Attempting to retrieve day 5-9-2020\n",
      "2021-04-30 20:44:42,799,799 INFO     [fetcher.py:328] Attempting to retrieve day 9-9-2020\n",
      "2021-04-30 20:44:42,799,799 INFO     [fetcher.py:328] Attempting to retrieve day 11-9-2020\n"
     ]
    },
    {
     "name": "stderr",
     "output_type": "stream",
     "text": [
      "INFO:agrimarketwatcher:Attempting to retrieve day 9-9-2020\n",
      "INFO:agrimarketwatcher:Attempting to retrieve day 1-9-2020\n",
      "INFO:agrimarketwatcher:Attempting to retrieve day 7-9-2020\n",
      "INFO:agrimarketwatcher:Attempting to retrieve day 3-9-2020\n",
      "INFO:agrimarketwatcher:Attempting to retrieve day 5-9-2020\n",
      "INFO:agrimarketwatcher:Attempting to retrieve day 11-9-2020\n"
     ]
    },
    {
     "name": "stdout",
     "output_type": "stream",
     "text": [
      "2021-04-30 20:44:43,205,205 DEBUG    [fetcher.py:200] No Daily report found for: 5-9-2020\n"
     ]
    },
    {
     "name": "stderr",
     "output_type": "stream",
     "text": [
      "DEBUG:agrimarketwatcher:No Daily report found for: 5-9-2020\n"
     ]
    },
    {
     "name": "stdout",
     "output_type": "stream",
     "text": [
      "2021-04-30 20:44:43,210,210 ERROR    [fetcher.py:333] Data for 5-9-2020 was unsuccessful\n"
     ]
    },
    {
     "name": "stderr",
     "output_type": "stream",
     "text": [
      "ERROR:agrimarketwatcher:Data for 5-9-2020 was unsuccessful\n"
     ]
    },
    {
     "name": "stdout",
     "output_type": "stream",
     "text": [
      "2021-04-30 20:44:43,397,397 INFO     [fetcher.py:328] Attempting to retrieve day 6-9-2020\n"
     ]
    },
    {
     "name": "stderr",
     "output_type": "stream",
     "text": [
      "INFO:agrimarketwatcher:Attempting to retrieve day 6-9-2020\n"
     ]
    },
    {
     "name": "stdout",
     "output_type": "stream",
     "text": [
      "2021-04-30 20:44:43,609,609 INFO     [fetcher.py:331] Data for 3-9-2020 was successful\n"
     ]
    },
    {
     "name": "stderr",
     "output_type": "stream",
     "text": [
      "INFO:agrimarketwatcher:Data for 3-9-2020 was successful\n"
     ]
    },
    {
     "name": "stdout",
     "output_type": "stream",
     "text": [
      "2021-04-30 20:44:43,612,612 INFO     [fetcher.py:328] Attempting to retrieve day 4-9-2020\n"
     ]
    },
    {
     "name": "stderr",
     "output_type": "stream",
     "text": [
      "INFO:agrimarketwatcher:Attempting to retrieve day 4-9-2020\n"
     ]
    },
    {
     "name": "stdout",
     "output_type": "stream",
     "text": [
      "2021-04-30 20:44:43,828,828 DEBUG    [fetcher.py:200] No Daily report found for: 6-9-2020\n"
     ]
    },
    {
     "name": "stderr",
     "output_type": "stream",
     "text": [
      "DEBUG:agrimarketwatcher:No Daily report found for: 6-9-2020\n"
     ]
    },
    {
     "name": "stdout",
     "output_type": "stream",
     "text": [
      "2021-04-30 20:44:43,832,832 ERROR    [fetcher.py:333] Data for 6-9-2020 was unsuccessful\n"
     ]
    },
    {
     "name": "stderr",
     "output_type": "stream",
     "text": [
      "ERROR:agrimarketwatcher:Data for 6-9-2020 was unsuccessful\n"
     ]
    },
    {
     "name": "stdout",
     "output_type": "stream",
     "text": [
      "2021-04-30 20:44:43,841,841 INFO     [fetcher.py:331] Data for 7-9-2020 was successful\n"
     ]
    },
    {
     "name": "stderr",
     "output_type": "stream",
     "text": [
      "INFO:agrimarketwatcher:Data for 7-9-2020 was successful\n"
     ]
    },
    {
     "name": "stdout",
     "output_type": "stream",
     "text": [
      "2021-04-30 20:44:43,845,845 INFO     [fetcher.py:328] Attempting to retrieve day 8-9-2020\n"
     ]
    },
    {
     "name": "stderr",
     "output_type": "stream",
     "text": [
      "INFO:agrimarketwatcher:Attempting to retrieve day 8-9-2020\n"
     ]
    },
    {
     "name": "stdout",
     "output_type": "stream",
     "text": [
      "2021-04-30 20:44:43,864,864 INFO     [fetcher.py:328] Attempting to retrieve day 13-9-2020\n"
     ]
    },
    {
     "name": "stderr",
     "output_type": "stream",
     "text": [
      "INFO:agrimarketwatcher:Attempting to retrieve day 13-9-2020\n"
     ]
    },
    {
     "name": "stdout",
     "output_type": "stream",
     "text": [
      "2021-04-30 20:44:43,962,962 INFO     [fetcher.py:331] Data for 9-9-2020 was successful\n",
      "2021-04-30 20:44:43,962,962 INFO     [fetcher.py:331] Data for 1-9-2020 was successful\n"
     ]
    },
    {
     "name": "stderr",
     "output_type": "stream",
     "text": [
      "INFO:agrimarketwatcher:Data for 1-9-2020 was successful\n",
      "INFO:agrimarketwatcher:Data for 9-9-2020 was successful\n"
     ]
    },
    {
     "name": "stdout",
     "output_type": "stream",
     "text": [
      "2021-04-30 20:44:43,966,966 INFO     [fetcher.py:328] Attempting to retrieve day 2-9-2020\n",
      "2021-04-30 20:44:43,966,966 INFO     [fetcher.py:328] Attempting to retrieve day 10-9-2020\n"
     ]
    },
    {
     "name": "stderr",
     "output_type": "stream",
     "text": [
      "INFO:agrimarketwatcher:Attempting to retrieve day 2-9-2020\n",
      "INFO:agrimarketwatcher:Attempting to retrieve day 10-9-2020\n"
     ]
    },
    {
     "name": "stdout",
     "output_type": "stream",
     "text": [
      "2021-04-30 20:44:44,088,88 INFO     [fetcher.py:331] Data for 11-9-2020 was successful\n"
     ]
    },
    {
     "name": "stderr",
     "output_type": "stream",
     "text": [
      "INFO:agrimarketwatcher:Data for 11-9-2020 was successful\n"
     ]
    },
    {
     "name": "stdout",
     "output_type": "stream",
     "text": [
      "2021-04-30 20:44:44,091,91 INFO     [fetcher.py:328] Attempting to retrieve day 12-9-2020\n"
     ]
    },
    {
     "name": "stderr",
     "output_type": "stream",
     "text": [
      "INFO:agrimarketwatcher:Attempting to retrieve day 12-9-2020\n"
     ]
    },
    {
     "name": "stdout",
     "output_type": "stream",
     "text": [
      "2021-04-30 20:44:44,323,323 DEBUG    [fetcher.py:200] No Daily report found for: 13-9-2020\n"
     ]
    },
    {
     "name": "stderr",
     "output_type": "stream",
     "text": [
      "DEBUG:agrimarketwatcher:No Daily report found for: 13-9-2020\n"
     ]
    },
    {
     "name": "stdout",
     "output_type": "stream",
     "text": [
      "2021-04-30 20:44:44,327,327 ERROR    [fetcher.py:333] Data for 13-9-2020 was unsuccessful\n"
     ]
    },
    {
     "name": "stderr",
     "output_type": "stream",
     "text": [
      "ERROR:agrimarketwatcher:Data for 13-9-2020 was unsuccessful\n"
     ]
    },
    {
     "name": "stdout",
     "output_type": "stream",
     "text": [
      "2021-04-30 20:44:44,337,337 DEBUG    [fetcher.py:200] No Daily report found for: 10-9-2020\n"
     ]
    },
    {
     "name": "stderr",
     "output_type": "stream",
     "text": [
      "DEBUG:agrimarketwatcher:No Daily report found for: 10-9-2020\n"
     ]
    },
    {
     "name": "stdout",
     "output_type": "stream",
     "text": [
      "2021-04-30 20:44:44,340,340 ERROR    [fetcher.py:333] Data for 10-9-2020 was unsuccessful\n"
     ]
    },
    {
     "name": "stderr",
     "output_type": "stream",
     "text": [
      "ERROR:agrimarketwatcher:Data for 10-9-2020 was unsuccessful\n"
     ]
    },
    {
     "name": "stdout",
     "output_type": "stream",
     "text": [
      "2021-04-30 20:44:44,358,358 INFO     [fetcher.py:328] Attempting to retrieve day 14-9-2020\n"
     ]
    },
    {
     "name": "stderr",
     "output_type": "stream",
     "text": [
      "INFO:agrimarketwatcher:Attempting to retrieve day 14-9-2020\n"
     ]
    },
    {
     "name": "stdout",
     "output_type": "stream",
     "text": [
      "2021-04-30 20:44:44,502,502 INFO     [fetcher.py:328] Attempting to retrieve day 15-9-2020\n"
     ]
    },
    {
     "name": "stderr",
     "output_type": "stream",
     "text": [
      "INFO:agrimarketwatcher:Attempting to retrieve day 15-9-2020\n"
     ]
    },
    {
     "name": "stdout",
     "output_type": "stream",
     "text": [
      "2021-04-30 20:44:44,557,557 DEBUG    [fetcher.py:200] No Daily report found for: 12-9-2020\n"
     ]
    },
    {
     "name": "stderr",
     "output_type": "stream",
     "text": [
      "DEBUG:agrimarketwatcher:No Daily report found for: 12-9-2020\n"
     ]
    },
    {
     "name": "stdout",
     "output_type": "stream",
     "text": [
      "2021-04-30 20:44:44,562,562 ERROR    [fetcher.py:333] Data for 12-9-2020 was unsuccessful\n"
     ]
    },
    {
     "name": "stderr",
     "output_type": "stream",
     "text": [
      "ERROR:agrimarketwatcher:Data for 12-9-2020 was unsuccessful\n"
     ]
    },
    {
     "name": "stdout",
     "output_type": "stream",
     "text": [
      "2021-04-30 20:44:44,589,589 INFO     [fetcher.py:331] Data for 4-9-2020 was successful\n"
     ]
    },
    {
     "name": "stderr",
     "output_type": "stream",
     "text": [
      "INFO:agrimarketwatcher:Data for 4-9-2020 was successful\n"
     ]
    },
    {
     "name": "stdout",
     "output_type": "stream",
     "text": [
      "2021-04-30 20:44:44,593,593 INFO     [fetcher.py:328] Attempting to retrieve day 17-9-2020\n"
     ]
    },
    {
     "name": "stderr",
     "output_type": "stream",
     "text": [
      "INFO:agrimarketwatcher:Attempting to retrieve day 17-9-2020\n"
     ]
    },
    {
     "name": "stdout",
     "output_type": "stream",
     "text": [
      "2021-04-30 20:44:44,735,735 INFO     [fetcher.py:328] Attempting to retrieve day 19-9-2020\n"
     ]
    },
    {
     "name": "stderr",
     "output_type": "stream",
     "text": [
      "INFO:agrimarketwatcher:Attempting to retrieve day 19-9-2020\n"
     ]
    },
    {
     "name": "stdout",
     "output_type": "stream",
     "text": [
      "2021-04-30 20:44:44,925,925 INFO     [fetcher.py:331] Data for 8-9-2020 was successful\n"
     ]
    },
    {
     "name": "stderr",
     "output_type": "stream",
     "text": [
      "INFO:agrimarketwatcher:Data for 8-9-2020 was successful\n"
     ]
    },
    {
     "name": "stdout",
     "output_type": "stream",
     "text": [
      "2021-04-30 20:44:44,931,931 INFO     [fetcher.py:328] Attempting to retrieve day 21-9-2020\n"
     ]
    },
    {
     "name": "stderr",
     "output_type": "stream",
     "text": [
      "INFO:agrimarketwatcher:Attempting to retrieve day 21-9-2020\n"
     ]
    },
    {
     "name": "stdout",
     "output_type": "stream",
     "text": [
      "2021-04-30 20:44:45,174,174 INFO     [fetcher.py:331] Data for 2-9-2020 was successful\n"
     ]
    },
    {
     "name": "stderr",
     "output_type": "stream",
     "text": [
      "INFO:agrimarketwatcher:Data for 2-9-2020 was successful\n"
     ]
    },
    {
     "name": "stdout",
     "output_type": "stream",
     "text": [
      "2021-04-30 20:44:45,178,178 INFO     [fetcher.py:328] Attempting to retrieve day 23-9-2020\n"
     ]
    },
    {
     "name": "stderr",
     "output_type": "stream",
     "text": [
      "INFO:agrimarketwatcher:Attempting to retrieve day 23-9-2020\n"
     ]
    },
    {
     "name": "stdout",
     "output_type": "stream",
     "text": [
      "2021-04-30 20:44:45,386,386 DEBUG    [fetcher.py:200] No Daily report found for: 19-9-2020\n"
     ]
    },
    {
     "name": "stderr",
     "output_type": "stream",
     "text": [
      "DEBUG:agrimarketwatcher:No Daily report found for: 19-9-2020\n"
     ]
    },
    {
     "name": "stdout",
     "output_type": "stream",
     "text": [
      "2021-04-30 20:44:45,389,389 ERROR    [fetcher.py:333] Data for 19-9-2020 was unsuccessful\n"
     ]
    },
    {
     "name": "stderr",
     "output_type": "stream",
     "text": [
      "ERROR:agrimarketwatcher:Data for 19-9-2020 was unsuccessful\n"
     ]
    },
    {
     "name": "stdout",
     "output_type": "stream",
     "text": [
      "2021-04-30 20:44:45,420,420 INFO     [fetcher.py:328] Attempting to retrieve day 20-9-2020\n"
     ]
    },
    {
     "name": "stderr",
     "output_type": "stream",
     "text": [
      "INFO:agrimarketwatcher:Attempting to retrieve day 20-9-2020\n"
     ]
    },
    {
     "name": "stdout",
     "output_type": "stream",
     "text": [
      "2021-04-30 20:44:45,872,872 INFO     [fetcher.py:331] Data for 17-9-2020 was successful\n"
     ]
    },
    {
     "name": "stderr",
     "output_type": "stream",
     "text": [
      "INFO:agrimarketwatcher:Data for 17-9-2020 was successful\n"
     ]
    },
    {
     "name": "stdout",
     "output_type": "stream",
     "text": [
      "2021-04-30 20:44:45,876,876 INFO     [fetcher.py:328] Attempting to retrieve day 18-9-2020\n"
     ]
    },
    {
     "name": "stderr",
     "output_type": "stream",
     "text": [
      "INFO:agrimarketwatcher:Attempting to retrieve day 18-9-2020\n"
     ]
    },
    {
     "name": "stdout",
     "output_type": "stream",
     "text": [
      "2021-04-30 20:44:45,933,933 INFO     [fetcher.py:331] Data for 15-9-2020 was successful\n"
     ]
    },
    {
     "name": "stderr",
     "output_type": "stream",
     "text": [
      "INFO:agrimarketwatcher:Data for 15-9-2020 was successful\n"
     ]
    },
    {
     "name": "stdout",
     "output_type": "stream",
     "text": [
      "2021-04-30 20:44:45,937,937 INFO     [fetcher.py:328] Attempting to retrieve day 16-9-2020\n"
     ]
    },
    {
     "name": "stderr",
     "output_type": "stream",
     "text": [
      "INFO:agrimarketwatcher:Attempting to retrieve day 16-9-2020\n"
     ]
    },
    {
     "name": "stdout",
     "output_type": "stream",
     "text": [
      "2021-04-30 20:44:45,974,974 INFO     [fetcher.py:331] Data for 14-9-2020 was successful\n"
     ]
    },
    {
     "name": "stderr",
     "output_type": "stream",
     "text": [
      "INFO:agrimarketwatcher:Data for 14-9-2020 was successful\n"
     ]
    },
    {
     "name": "stdout",
     "output_type": "stream",
     "text": [
      "2021-04-30 20:44:45,979,979 INFO     [fetcher.py:328] Attempting to retrieve day 25-9-2020\n"
     ]
    },
    {
     "name": "stderr",
     "output_type": "stream",
     "text": [
      "INFO:agrimarketwatcher:Attempting to retrieve day 25-9-2020\n"
     ]
    },
    {
     "name": "stdout",
     "output_type": "stream",
     "text": [
      "2021-04-30 20:44:46,005,5 DEBUG    [fetcher.py:200] No Daily report found for: 20-9-2020\n"
     ]
    },
    {
     "name": "stderr",
     "output_type": "stream",
     "text": [
      "DEBUG:agrimarketwatcher:No Daily report found for: 20-9-2020\n"
     ]
    },
    {
     "name": "stdout",
     "output_type": "stream",
     "text": [
      "2021-04-30 20:44:46,009,9 ERROR    [fetcher.py:333] Data for 20-9-2020 was unsuccessful\n"
     ]
    },
    {
     "name": "stderr",
     "output_type": "stream",
     "text": [
      "ERROR:agrimarketwatcher:Data for 20-9-2020 was unsuccessful\n"
     ]
    },
    {
     "name": "stdout",
     "output_type": "stream",
     "text": [
      "2021-04-30 20:44:46,025,25 INFO     [fetcher.py:331] Data for 21-9-2020 was successful\n"
     ]
    },
    {
     "name": "stderr",
     "output_type": "stream",
     "text": [
      "INFO:agrimarketwatcher:Data for 21-9-2020 was successful\n"
     ]
    },
    {
     "name": "stdout",
     "output_type": "stream",
     "text": [
      "2021-04-30 20:44:46,029,29 INFO     [fetcher.py:328] Attempting to retrieve day 22-9-2020\n"
     ]
    },
    {
     "name": "stderr",
     "output_type": "stream",
     "text": [
      "INFO:agrimarketwatcher:Attempting to retrieve day 22-9-2020\n"
     ]
    },
    {
     "name": "stdout",
     "output_type": "stream",
     "text": [
      "2021-04-30 20:44:46,044,44 INFO     [fetcher.py:328] Attempting to retrieve day 27-9-2020\n"
     ]
    },
    {
     "name": "stderr",
     "output_type": "stream",
     "text": [
      "INFO:agrimarketwatcher:Attempting to retrieve day 27-9-2020\n"
     ]
    },
    {
     "name": "stdout",
     "output_type": "stream",
     "text": [
      "2021-04-30 20:44:46,515,515 DEBUG    [fetcher.py:200] No Daily report found for: 27-9-2020\n"
     ]
    },
    {
     "name": "stderr",
     "output_type": "stream",
     "text": [
      "DEBUG:agrimarketwatcher:No Daily report found for: 27-9-2020\n"
     ]
    },
    {
     "name": "stdout",
     "output_type": "stream",
     "text": [
      "2021-04-30 20:44:46,520,520 ERROR    [fetcher.py:333] Data for 27-9-2020 was unsuccessful\n"
     ]
    },
    {
     "name": "stderr",
     "output_type": "stream",
     "text": [
      "ERROR:agrimarketwatcher:Data for 27-9-2020 was unsuccessful\n"
     ]
    },
    {
     "name": "stdout",
     "output_type": "stream",
     "text": [
      "2021-04-30 20:44:46,527,527 INFO     [fetcher.py:331] Data for 23-9-2020 was successful\n"
     ]
    },
    {
     "name": "stderr",
     "output_type": "stream",
     "text": [
      "INFO:agrimarketwatcher:Data for 23-9-2020 was successful\n"
     ]
    },
    {
     "name": "stdout",
     "output_type": "stream",
     "text": [
      "2021-04-30 20:44:46,531,531 INFO     [fetcher.py:328] Attempting to retrieve day 24-9-2020\n"
     ]
    },
    {
     "name": "stderr",
     "output_type": "stream",
     "text": [
      "INFO:agrimarketwatcher:Attempting to retrieve day 24-9-2020\n"
     ]
    },
    {
     "name": "stdout",
     "output_type": "stream",
     "text": [
      "2021-04-30 20:44:46,558,558 INFO     [fetcher.py:328] Attempting to retrieve day 28-9-2020\n"
     ]
    },
    {
     "name": "stderr",
     "output_type": "stream",
     "text": [
      "INFO:agrimarketwatcher:Attempting to retrieve day 28-9-2020\n"
     ]
    },
    {
     "name": "stdout",
     "output_type": "stream",
     "text": [
      "2021-04-30 20:44:46,919,919 INFO     [fetcher.py:331] Data for 16-9-2020 was successful\n"
     ]
    },
    {
     "name": "stderr",
     "output_type": "stream",
     "text": [
      "INFO:agrimarketwatcher:Data for 16-9-2020 was successful\n"
     ]
    },
    {
     "name": "stdout",
     "output_type": "stream",
     "text": [
      "2021-04-30 20:44:46,924,924 INFO     [fetcher.py:328] Attempting to retrieve day 29-9-2020\n"
     ]
    },
    {
     "name": "stderr",
     "output_type": "stream",
     "text": [
      "INFO:agrimarketwatcher:Attempting to retrieve day 29-9-2020\n"
     ]
    },
    {
     "name": "stdout",
     "output_type": "stream",
     "text": [
      "2021-04-30 20:44:46,966,966 INFO     [fetcher.py:331] Data for 18-9-2020 was successful\n"
     ]
    },
    {
     "name": "stderr",
     "output_type": "stream",
     "text": [
      "INFO:agrimarketwatcher:Data for 18-9-2020 was successful\n"
     ]
    },
    {
     "name": "stdout",
     "output_type": "stream",
     "text": [
      "2021-04-30 20:44:46,970,970 INFO     [fetcher.py:328] Attempting to retrieve day 31-9-2020\n"
     ]
    },
    {
     "name": "stderr",
     "output_type": "stream",
     "text": [
      "INFO:agrimarketwatcher:Attempting to retrieve day 31-9-2020\n"
     ]
    },
    {
     "name": "stdout",
     "output_type": "stream",
     "text": [
      "2021-04-30 20:44:46,990,990 DEBUG    [fetcher.py:200] No Daily report found for: 24-9-2020\n"
     ]
    },
    {
     "name": "stderr",
     "output_type": "stream",
     "text": [
      "DEBUG:agrimarketwatcher:No Daily report found for: 24-9-2020\n"
     ]
    },
    {
     "name": "stdout",
     "output_type": "stream",
     "text": [
      "2021-04-30 20:44:46,994,994 ERROR    [fetcher.py:333] Data for 24-9-2020 was unsuccessful\n"
     ]
    },
    {
     "name": "stderr",
     "output_type": "stream",
     "text": [
      "ERROR:agrimarketwatcher:Data for 24-9-2020 was unsuccessful\n"
     ]
    },
    {
     "name": "stdout",
     "output_type": "stream",
     "text": [
      "2021-04-30 20:44:47,012,12 INFO     [fetcher.py:331] Data for 25-9-2020 was successful\n"
     ]
    },
    {
     "name": "stderr",
     "output_type": "stream",
     "text": [
      "INFO:agrimarketwatcher:Data for 25-9-2020 was successful\n"
     ]
    },
    {
     "name": "stdout",
     "output_type": "stream",
     "text": [
      "2021-04-30 20:44:47,015,15 INFO     [fetcher.py:328] Attempting to retrieve day 26-9-2020\n"
     ]
    },
    {
     "name": "stderr",
     "output_type": "stream",
     "text": [
      "INFO:agrimarketwatcher:Attempting to retrieve day 26-9-2020\n"
     ]
    },
    {
     "name": "stdout",
     "output_type": "stream",
     "text": [
      "2021-04-30 20:44:47,355,355 DEBUG    [fetcher.py:200] No Daily report found for: 31-9-2020\n"
     ]
    },
    {
     "name": "stderr",
     "output_type": "stream",
     "text": [
      "DEBUG:agrimarketwatcher:No Daily report found for: 31-9-2020\n"
     ]
    },
    {
     "name": "stdout",
     "output_type": "stream",
     "text": [
      "2021-04-30 20:44:47,360,360 ERROR    [fetcher.py:333] Data for 31-9-2020 was unsuccessful\n"
     ]
    },
    {
     "name": "stderr",
     "output_type": "stream",
     "text": [
      "ERROR:agrimarketwatcher:Data for 31-9-2020 was unsuccessful\n"
     ]
    },
    {
     "name": "stdout",
     "output_type": "stream",
     "text": [
      "2021-04-30 20:44:47,369,369 INFO     [fetcher.py:331] Data for 22-9-2020 was successful\n"
     ]
    },
    {
     "name": "stderr",
     "output_type": "stream",
     "text": [
      "INFO:agrimarketwatcher:Data for 22-9-2020 was successful\n"
     ]
    },
    {
     "name": "stdout",
     "output_type": "stream",
     "text": [
      "2021-04-30 20:44:47,388,388 DEBUG    [fetcher.py:200] No Daily report found for: 26-9-2020\n"
     ]
    },
    {
     "name": "stderr",
     "output_type": "stream",
     "text": [
      "DEBUG:agrimarketwatcher:No Daily report found for: 26-9-2020\n"
     ]
    },
    {
     "name": "stdout",
     "output_type": "stream",
     "text": [
      "2021-04-30 20:44:47,392,392 ERROR    [fetcher.py:333] Data for 26-9-2020 was unsuccessful\n"
     ]
    },
    {
     "name": "stderr",
     "output_type": "stream",
     "text": [
      "ERROR:agrimarketwatcher:Data for 26-9-2020 was unsuccessful\n"
     ]
    },
    {
     "name": "stdout",
     "output_type": "stream",
     "text": [
      "2021-04-30 20:44:47,433,433 INFO     [fetcher.py:331] Data for 28-9-2020 was successful\n"
     ]
    },
    {
     "name": "stderr",
     "output_type": "stream",
     "text": [
      "INFO:agrimarketwatcher:Data for 28-9-2020 was successful\n"
     ]
    },
    {
     "name": "stdout",
     "output_type": "stream",
     "text": [
      "2021-04-30 20:44:47,860,860 INFO     [fetcher.py:331] Data for 29-9-2020 was successful\n"
     ]
    },
    {
     "name": "stderr",
     "output_type": "stream",
     "text": [
      "INFO:agrimarketwatcher:Data for 29-9-2020 was successful\n"
     ]
    },
    {
     "name": "stdout",
     "output_type": "stream",
     "text": [
      "2021-04-30 20:44:47,864,864 INFO     [fetcher.py:328] Attempting to retrieve day 30-9-2020\n"
     ]
    },
    {
     "name": "stderr",
     "output_type": "stream",
     "text": [
      "INFO:agrimarketwatcher:Attempting to retrieve day 30-9-2020\n"
     ]
    },
    {
     "name": "stdout",
     "output_type": "stream",
     "text": [
      "2021-04-30 20:44:48,707,707 INFO     [fetcher.py:331] Data for 30-9-2020 was successful\n"
     ]
    },
    {
     "name": "stderr",
     "output_type": "stream",
     "text": [
      "INFO:agrimarketwatcher:Data for 30-9-2020 was successful\n"
     ]
    },
    {
     "name": "stdout",
     "output_type": "stream",
     "text": [
      "Received 31 records\n",
      "Valid results 20 received\n",
      "('Months: ', 68)\n",
      "('Daily Records', 20)\n"
     ]
    }
   ],
   "source": [
    "month_record, daily_records = process_run_get_month(9, 2020)\n",
    "print('Months: ', len(month_record))\n",
    "print('Daily Records', len(daily_records))"
   ]
  },
  {
   "cell_type": "code",
   "execution_count": 3,
   "metadata": {},
   "outputs": [],
   "source": [
    "from pushserver import run"
   ]
  },
  {
   "cell_type": "code",
   "execution_count": 4,
   "metadata": {},
   "outputs": [
    {
     "name": "stdout",
     "output_type": "stream",
     "text": [
      "2021-04-30 20:57:07,247,247 INFO     [pushserver.py:176] Requesting crop data on 2021-04-30 20:57:07.247859\n"
     ]
    },
    {
     "name": "stderr",
     "output_type": "stream",
     "text": [
      "INFO:agrimarketwatcher:Requesting crop data on 2021-04-30 20:57:07.247859\n"
     ]
    },
    {
     "name": "stdout",
     "output_type": "stream",
     "text": [
      "2021-04-30 20:57:07,251,251 INFO     [pushserver.py:182] Attempting to retrieve most recent crop data\n"
     ]
    },
    {
     "name": "stderr",
     "output_type": "stream",
     "text": [
      "INFO:agrimarketwatcher:Attempting to retrieve most recent crop data\n"
     ]
    },
    {
     "name": "stdout",
     "output_type": "stream",
     "text": [
      "2021-04-30 20:57:07,444,444 DEBUG    [fetcher.py:222] No Monthly report found for: 4-2021\n"
     ]
    },
    {
     "name": "stderr",
     "output_type": "stream",
     "text": [
      "DEBUG:agrimarketwatcher:No Monthly report found for: 4-2021\n"
     ]
    },
    {
     "name": "stdout",
     "output_type": "stream",
     "text": [
      "2021-04-30 20:57:07,603,603 DEBUG    [fetcher.py:222] No Monthly report found for: 3-2021\n"
     ]
    },
    {
     "name": "stderr",
     "output_type": "stream",
     "text": [
      "DEBUG:agrimarketwatcher:No Monthly report found for: 3-2021\n"
     ]
    },
    {
     "name": "stdout",
     "output_type": "stream",
     "text": [
      "2021-04-30 20:57:07,767,767 DEBUG    [fetcher.py:222] No Monthly report found for: 2-2021\n"
     ]
    },
    {
     "name": "stderr",
     "output_type": "stream",
     "text": [
      "DEBUG:agrimarketwatcher:No Monthly report found for: 2-2021\n"
     ]
    },
    {
     "name": "stdout",
     "output_type": "stream",
     "text": [
      "2021-04-30 20:57:08,330,330 INFO     [fetcher.py:281] successfully found 68 monthly prices for January-2021\n"
     ]
    },
    {
     "name": "stderr",
     "output_type": "stream",
     "text": [
      "INFO:agrimarketwatcher:successfully found 68 monthly prices for January-2021\n"
     ]
    },
    {
     "name": "stdout",
     "output_type": "stream",
     "text": [
      "2021-04-30 20:57:08,989,989 INFO     [fetcher.py:297] Found 77 records for day 30-4-2021\n"
     ]
    },
    {
     "name": "stderr",
     "output_type": "stream",
     "text": [
      "INFO:agrimarketwatcher:Found 77 records for day 30-4-2021\n"
     ]
    },
    {
     "name": "stdout",
     "output_type": "stream",
     "text": [
      "2021-04-30 20:57:08,992,992 INFO     [pushserver.py:185] Successfully retrieved crop data\n"
     ]
    },
    {
     "name": "stderr",
     "output_type": "stream",
     "text": [
      "INFO:agrimarketwatcher:Successfully retrieved crop data\n"
     ]
    },
    {
     "name": "stdout",
     "output_type": "stream",
     "text": [
      "2021-04-30 20:57:09,023,23 INFO     [pushserver.py:85] Previous: Fri Jan  1 00:00:00 2021 /t Current: Fri Jan  1 00:00:00 2021\n"
     ]
    },
    {
     "name": "stderr",
     "output_type": "stream",
     "text": [
      "INFO:agrimarketwatcher:Previous: Fri Jan  1 00:00:00 2021 /t Current: Fri Jan  1 00:00:00 2021\n"
     ]
    },
    {
     "name": "stdout",
     "output_type": "stream",
     "text": [
      "2021-04-30 20:57:09,026,26 INFO     [pushserver.py:104] no new record found\n"
     ]
    },
    {
     "name": "stderr",
     "output_type": "stream",
     "text": [
      "INFO:agrimarketwatcher:no new record found\n"
     ]
    },
    {
     "name": "stdout",
     "output_type": "stream",
     "text": [
      "2021-04-30 20:57:09,034,34 INFO     [pushserver.py:85] Previous: Wed Apr 28 00:00:00 2021 /t Current: Fri Apr 30 00:00:00 2021\n"
     ]
    },
    {
     "name": "stderr",
     "output_type": "stream",
     "text": [
      "INFO:agrimarketwatcher:Previous: Wed Apr 28 00:00:00 2021 /t Current: Fri Apr 30 00:00:00 2021\n"
     ]
    },
    {
     "name": "stdout",
     "output_type": "stream",
     "text": [
      "2021-04-30 20:57:09,039,39 INFO     [models.py:290] Deleted 77 records from the Daily Crops Recent table\n"
     ]
    },
    {
     "name": "stderr",
     "output_type": "stream",
     "text": [
      "INFO:agrimarketwatcher:Deleted 77 records from the Daily Crops Recent table\n"
     ]
    },
    {
     "name": "stdout",
     "output_type": "stream",
     "text": [
      "2021-04-30 20:57:09,112,112 INFO     [pushserver.py:200] Requesting fish data on 2021-04-30 20:57:07.247859\n"
     ]
    },
    {
     "name": "stderr",
     "output_type": "stream",
     "text": [
      "INFO:agrimarketwatcher:Requesting fish data on 2021-04-30 20:57:07.247859\n"
     ]
    },
    {
     "name": "stdout",
     "output_type": "stream",
     "text": [
      "2021-04-30 20:57:09,116,116 INFO     [fetch_fish.py:138] Attempting to retrieve information for: 30-4-2021\n"
     ]
    },
    {
     "name": "stderr",
     "output_type": "stream",
     "text": [
      "INFO:agrimarketwatcher:Attempting to retrieve information for: 30-4-2021\n"
     ]
    },
    {
     "name": "stdout",
     "output_type": "stream",
     "text": [
      "2021-04-30 20:57:09,276,276 INFO     [fetch_fish.py:138] Attempting to retrieve information for: 30-4-2021\n"
     ]
    },
    {
     "name": "stderr",
     "output_type": "stream",
     "text": [
      "INFO:agrimarketwatcher:Attempting to retrieve information for: 30-4-2021\n"
     ]
    },
    {
     "name": "stdout",
     "output_type": "stream",
     "text": [
      "2021-04-30 20:57:09,436,436 INFO     [fetch_fish.py:138] Attempting to retrieve information for: 29-4-2021\n"
     ]
    },
    {
     "name": "stderr",
     "output_type": "stream",
     "text": [
      "INFO:agrimarketwatcher:Attempting to retrieve information for: 29-4-2021\n"
     ]
    },
    {
     "name": "stdout",
     "output_type": "stream",
     "text": [
      "2021-04-30 20:57:10,139,139 INFO     [fetch_fish.py:138] Attempting to retrieve information for: 30-4-2021\n"
     ]
    },
    {
     "name": "stderr",
     "output_type": "stream",
     "text": [
      "INFO:agrimarketwatcher:Attempting to retrieve information for: 30-4-2021\n"
     ]
    },
    {
     "name": "stdout",
     "output_type": "stream",
     "text": [
      "2021-04-30 20:57:10,690,690 INFO     [pushserver.py:205] Successfully retrieved 96 fish records\n"
     ]
    },
    {
     "name": "stderr",
     "output_type": "stream",
     "text": [
      "INFO:agrimarketwatcher:Successfully retrieved 96 fish records\n"
     ]
    },
    {
     "name": "stdout",
     "output_type": "stream",
     "text": [
      "2021-04-30 20:57:10,699,699 INFO     [pushserver.py:116] [FISH] Received value for both previous rec and curr rec\n"
     ]
    },
    {
     "name": "stderr",
     "output_type": "stream",
     "text": [
      "INFO:agrimarketwatcher:[FISH] Received value for both previous rec and curr rec\n"
     ]
    },
    {
     "name": "stdout",
     "output_type": "stream",
     "text": [
      "2021-04-30 20:57:10,702,702 INFO     [pushserver.py:120] Previous: Tue Apr 27 00:00:00 2021 /t Current: Thu Apr 29 00:00:00 2021\n"
     ]
    },
    {
     "name": "stderr",
     "output_type": "stream",
     "text": [
      "INFO:agrimarketwatcher:Previous: Tue Apr 27 00:00:00 2021 /t Current: Thu Apr 29 00:00:00 2021\n"
     ]
    },
    {
     "name": "stdout",
     "output_type": "stream",
     "text": [
      "2021-04-30 20:57:10,705,705 INFO     [pushserver.py:124] [FISH] Attempting to store most recent records\n"
     ]
    },
    {
     "name": "stderr",
     "output_type": "stream",
     "text": [
      "INFO:agrimarketwatcher:[FISH] Attempting to store most recent records\n"
     ]
    },
    {
     "name": "stdout",
     "output_type": "stream",
     "text": [
      "2021-04-30 20:57:10,709,709 INFO     [models.py:548] Deleted 96 records from the Daily Fish Recent table\n"
     ]
    },
    {
     "name": "stderr",
     "output_type": "stream",
     "text": [
      "INFO:agrimarketwatcher:Deleted 96 records from the Daily Fish Recent table\n"
     ]
    },
    {
     "name": "stdout",
     "output_type": "stream",
     "text": [
      "2021-04-30 20:57:10,761,761 INFO     [pushserver.py:126] [FISH] Attempting to store daily records\n"
     ]
    },
    {
     "name": "stderr",
     "output_type": "stream",
     "text": [
      "INFO:agrimarketwatcher:[FISH] Attempting to store daily records\n"
     ]
    },
    {
     "name": "stdout",
     "output_type": "stream",
     "text": [
      "2021-04-30 20:57:10,809,809 INFO     [pushserver.py:136] [FISH] The crop bachin has a value change for 33.07\n"
     ]
    },
    {
     "name": "stderr",
     "output_type": "stream",
     "text": [
      "INFO:agrimarketwatcher:[FISH] The crop bachin has a value change for 33.07\n"
     ]
    },
    {
     "name": "stdout",
     "output_type": "stream",
     "text": [
      "2021-04-30 20:57:10,812,812 INFO     [pushserver.py:144] [FISH] Skipping notification\n"
     ]
    },
    {
     "name": "stderr",
     "output_type": "stream",
     "text": [
      "INFO:agrimarketwatcher:[FISH] Skipping notification\n"
     ]
    },
    {
     "name": "stdout",
     "output_type": "stream",
     "text": [
      "2021-04-30 20:57:10,815,815 INFO     [pushserver.py:136] [FISH] The crop blue marlin has a value change for 17.64\n"
     ]
    },
    {
     "name": "stderr",
     "output_type": "stream",
     "text": [
      "INFO:agrimarketwatcher:[FISH] The crop blue marlin has a value change for 17.64\n"
     ]
    },
    {
     "name": "stdout",
     "output_type": "stream",
     "text": [
      "2021-04-30 20:57:10,818,818 INFO     [pushserver.py:144] [FISH] Skipping notification\n"
     ]
    },
    {
     "name": "stderr",
     "output_type": "stream",
     "text": [
      "INFO:agrimarketwatcher:[FISH] Skipping notification\n"
     ]
    },
    {
     "name": "stdout",
     "output_type": "stream",
     "text": [
      "2021-04-30 20:57:10,821,821 INFO     [pushserver.py:136] [FISH] The crop bonito has a value change for 2.2\n"
     ]
    },
    {
     "name": "stderr",
     "output_type": "stream",
     "text": [
      "INFO:agrimarketwatcher:[FISH] The crop bonito has a value change for 2.2\n"
     ]
    },
    {
     "name": "stdout",
     "output_type": "stream",
     "text": [
      "2021-04-30 20:57:10,823,823 INFO     [pushserver.py:144] [FISH] Skipping notification\n"
     ]
    },
    {
     "name": "stderr",
     "output_type": "stream",
     "text": [
      "INFO:agrimarketwatcher:[FISH] Skipping notification\n"
     ]
    },
    {
     "name": "stdout",
     "output_type": "stream",
     "text": [
      "2021-04-30 20:57:10,826,826 INFO     [pushserver.py:136] [FISH] The crop brochet has a value change for 22.05\n"
     ]
    },
    {
     "name": "stderr",
     "output_type": "stream",
     "text": [
      "INFO:agrimarketwatcher:[FISH] The crop brochet has a value change for 22.05\n"
     ]
    },
    {
     "name": "stdout",
     "output_type": "stream",
     "text": [
      "2021-04-30 20:57:10,829,829 INFO     [pushserver.py:144] [FISH] Skipping notification\n"
     ]
    },
    {
     "name": "stderr",
     "output_type": "stream",
     "text": [
      "INFO:agrimarketwatcher:[FISH] Skipping notification\n"
     ]
    },
    {
     "name": "stdout",
     "output_type": "stream",
     "text": [
      "2021-04-30 20:57:10,832,832 INFO     [pushserver.py:136] [FISH] The crop brochet has a value change for 28.66\n"
     ]
    },
    {
     "name": "stderr",
     "output_type": "stream",
     "text": [
      "INFO:agrimarketwatcher:[FISH] The crop brochet has a value change for 28.66\n"
     ]
    },
    {
     "name": "stdout",
     "output_type": "stream",
     "text": [
      "2021-04-30 20:57:10,835,835 INFO     [pushserver.py:144] [FISH] Skipping notification\n"
     ]
    },
    {
     "name": "stderr",
     "output_type": "stream",
     "text": [
      "INFO:agrimarketwatcher:[FISH] Skipping notification\n"
     ]
    },
    {
     "name": "stdout",
     "output_type": "stream",
     "text": [
      "2021-04-30 20:57:10,838,838 INFO     [pushserver.py:136] [FISH] The crop carite has a value change for 50.71\n"
     ]
    },
    {
     "name": "stderr",
     "output_type": "stream",
     "text": [
      "INFO:agrimarketwatcher:[FISH] The crop carite has a value change for 50.71\n"
     ]
    },
    {
     "name": "stdout",
     "output_type": "stream",
     "text": [
      "2021-04-30 20:57:10,841,841 INFO     [pushserver.py:144] [FISH] Skipping notification\n"
     ]
    },
    {
     "name": "stderr",
     "output_type": "stream",
     "text": [
      "INFO:agrimarketwatcher:[FISH] Skipping notification\n"
     ]
    },
    {
     "name": "stdout",
     "output_type": "stream",
     "text": [
      "2021-04-30 20:57:10,844,844 INFO     [pushserver.py:136] [FISH] The crop cascadura has a value change for 26.46\n"
     ]
    },
    {
     "name": "stderr",
     "output_type": "stream",
     "text": [
      "INFO:agrimarketwatcher:[FISH] The crop cascadura has a value change for 26.46\n"
     ]
    },
    {
     "name": "stdout",
     "output_type": "stream",
     "text": [
      "2021-04-30 20:57:10,847,847 INFO     [pushserver.py:144] [FISH] Skipping notification\n"
     ]
    },
    {
     "name": "stderr",
     "output_type": "stream",
     "text": [
      "INFO:agrimarketwatcher:[FISH] Skipping notification\n"
     ]
    },
    {
     "name": "stdout",
     "output_type": "stream",
     "text": [
      "2021-04-30 20:57:10,850,850 INFO     [pushserver.py:136] [FISH] The crop catfish has a value change for 6.61\n"
     ]
    },
    {
     "name": "stderr",
     "output_type": "stream",
     "text": [
      "INFO:agrimarketwatcher:[FISH] The crop catfish has a value change for 6.61\n"
     ]
    },
    {
     "name": "stdout",
     "output_type": "stream",
     "text": [
      "2021-04-30 20:57:10,853,853 INFO     [pushserver.py:144] [FISH] Skipping notification\n"
     ]
    },
    {
     "name": "stderr",
     "output_type": "stream",
     "text": [
      "INFO:agrimarketwatcher:[FISH] Skipping notification\n"
     ]
    },
    {
     "name": "stdout",
     "output_type": "stream",
     "text": [
      "2021-04-30 20:57:10,855,855 INFO     [pushserver.py:136] [FISH] The crop cavali has a value change for 19.85\n"
     ]
    },
    {
     "name": "stderr",
     "output_type": "stream",
     "text": [
      "INFO:agrimarketwatcher:[FISH] The crop cavali has a value change for 19.85\n"
     ]
    },
    {
     "name": "stdout",
     "output_type": "stream",
     "text": [
      "2021-04-30 20:57:10,858,858 INFO     [pushserver.py:144] [FISH] Skipping notification\n"
     ]
    },
    {
     "name": "stderr",
     "output_type": "stream",
     "text": [
      "INFO:agrimarketwatcher:[FISH] Skipping notification\n"
     ]
    },
    {
     "name": "stdout",
     "output_type": "stream",
     "text": [
      "2021-04-30 20:57:10,861,861 INFO     [pushserver.py:136] [FISH] The crop cavali has a value change for 22.05\n"
     ]
    },
    {
     "name": "stderr",
     "output_type": "stream",
     "text": [
      "INFO:agrimarketwatcher:[FISH] The crop cavali has a value change for 22.05\n"
     ]
    },
    {
     "name": "stdout",
     "output_type": "stream",
     "text": [
      "2021-04-30 20:57:10,864,864 INFO     [pushserver.py:144] [FISH] Skipping notification\n"
     ]
    },
    {
     "name": "stderr",
     "output_type": "stream",
     "text": [
      "INFO:agrimarketwatcher:[FISH] Skipping notification\n"
     ]
    },
    {
     "name": "stdout",
     "output_type": "stream",
     "text": [
      "2021-04-30 20:57:10,867,867 INFO     [pushserver.py:136] [FISH] The crop crocro has a value change for 16.54\n"
     ]
    },
    {
     "name": "stderr",
     "output_type": "stream",
     "text": [
      "INFO:agrimarketwatcher:[FISH] The crop crocro has a value change for 16.54\n"
     ]
    },
    {
     "name": "stdout",
     "output_type": "stream",
     "text": [
      "2021-04-30 20:57:10,870,870 INFO     [pushserver.py:144] [FISH] Skipping notification\n"
     ]
    },
    {
     "name": "stderr",
     "output_type": "stream",
     "text": [
      "INFO:agrimarketwatcher:[FISH] Skipping notification\n"
     ]
    },
    {
     "name": "stdout",
     "output_type": "stream",
     "text": [
      "2021-04-30 20:57:10,873,873 INFO     [pushserver.py:136] [FISH] The crop crocro has a value change for 19.11\n"
     ]
    },
    {
     "name": "stderr",
     "output_type": "stream",
     "text": [
      "INFO:agrimarketwatcher:[FISH] The crop crocro has a value change for 19.11\n"
     ]
    },
    {
     "name": "stdout",
     "output_type": "stream",
     "text": [
      "2021-04-30 20:57:10,876,876 INFO     [pushserver.py:144] [FISH] Skipping notification\n"
     ]
    },
    {
     "name": "stderr",
     "output_type": "stream",
     "text": [
      "INFO:agrimarketwatcher:[FISH] Skipping notification\n"
     ]
    },
    {
     "name": "stdout",
     "output_type": "stream",
     "text": [
      "2021-04-30 20:57:10,879,879 INFO     [pushserver.py:136] [FISH] The crop dolphin has a value change for 26.46\n"
     ]
    },
    {
     "name": "stderr",
     "output_type": "stream",
     "text": [
      "INFO:agrimarketwatcher:[FISH] The crop dolphin has a value change for 26.46\n"
     ]
    },
    {
     "name": "stdout",
     "output_type": "stream",
     "text": [
      "2021-04-30 20:57:10,882,882 INFO     [pushserver.py:144] [FISH] Skipping notification\n"
     ]
    },
    {
     "name": "stderr",
     "output_type": "stream",
     "text": [
      "INFO:agrimarketwatcher:[FISH] Skipping notification\n"
     ]
    },
    {
     "name": "stdout",
     "output_type": "stream",
     "text": [
      "2021-04-30 20:57:10,885,885 INFO     [pushserver.py:136] [FISH] The crop jack has a value change for 8.82\n"
     ]
    },
    {
     "name": "stderr",
     "output_type": "stream",
     "text": [
      "INFO:agrimarketwatcher:[FISH] The crop jack has a value change for 8.82\n"
     ]
    },
    {
     "name": "stdout",
     "output_type": "stream",
     "text": [
      "2021-04-30 20:57:10,888,888 INFO     [pushserver.py:144] [FISH] Skipping notification\n"
     ]
    },
    {
     "name": "stderr",
     "output_type": "stream",
     "text": [
      "INFO:agrimarketwatcher:[FISH] Skipping notification\n"
     ]
    },
    {
     "name": "stdout",
     "output_type": "stream",
     "text": [
      "2021-04-30 20:57:10,892,892 INFO     [pushserver.py:136] [FISH] The crop king fish has a value change for 52.91\n"
     ]
    },
    {
     "name": "stderr",
     "output_type": "stream",
     "text": [
      "INFO:agrimarketwatcher:[FISH] The crop king fish has a value change for 52.91\n"
     ]
    },
    {
     "name": "stdout",
     "output_type": "stream",
     "text": [
      "2021-04-30 20:57:10,895,895 INFO     [pushserver.py:144] [FISH] Skipping notification\n"
     ]
    },
    {
     "name": "stderr",
     "output_type": "stream",
     "text": [
      "INFO:agrimarketwatcher:[FISH] Skipping notification\n"
     ]
    },
    {
     "name": "stdout",
     "output_type": "stream",
     "text": [
      "2021-04-30 20:57:10,898,898 INFO     [pushserver.py:136] [FISH] The crop king fish has a value change for 48.5\n"
     ]
    },
    {
     "name": "stderr",
     "output_type": "stream",
     "text": [
      "INFO:agrimarketwatcher:[FISH] The crop king fish has a value change for 48.5\n"
     ]
    },
    {
     "name": "stdout",
     "output_type": "stream",
     "text": [
      "2021-04-30 20:57:10,901,901 INFO     [pushserver.py:144] [FISH] Skipping notification\n"
     ]
    },
    {
     "name": "stderr",
     "output_type": "stream",
     "text": [
      "INFO:agrimarketwatcher:[FISH] Skipping notification\n"
     ]
    },
    {
     "name": "stdout",
     "output_type": "stream",
     "text": [
      "2021-04-30 20:57:10,904,904 INFO     [pushserver.py:136] [FISH] The crop mixed fish has a value change for 11.02\n"
     ]
    },
    {
     "name": "stderr",
     "output_type": "stream",
     "text": [
      "INFO:agrimarketwatcher:[FISH] The crop mixed fish has a value change for 11.02\n"
     ]
    },
    {
     "name": "stdout",
     "output_type": "stream",
     "text": [
      "2021-04-30 20:57:10,907,907 INFO     [pushserver.py:144] [FISH] Skipping notification\n"
     ]
    },
    {
     "name": "stderr",
     "output_type": "stream",
     "text": [
      "INFO:agrimarketwatcher:[FISH] Skipping notification\n"
     ]
    },
    {
     "name": "stdout",
     "output_type": "stream",
     "text": [
      "2021-04-30 20:57:10,910,910 INFO     [pushserver.py:136] [FISH] The crop mixed fish has a value change for 7.35\n"
     ]
    },
    {
     "name": "stderr",
     "output_type": "stream",
     "text": [
      "INFO:agrimarketwatcher:[FISH] The crop mixed fish has a value change for 7.35\n"
     ]
    },
    {
     "name": "stdout",
     "output_type": "stream",
     "text": [
      "2021-04-30 20:57:10,913,913 INFO     [pushserver.py:144] [FISH] Skipping notification\n"
     ]
    },
    {
     "name": "stderr",
     "output_type": "stream",
     "text": [
      "INFO:agrimarketwatcher:[FISH] Skipping notification\n"
     ]
    },
    {
     "name": "stdout",
     "output_type": "stream",
     "text": [
      "2021-04-30 20:57:10,916,916 INFO     [pushserver.py:136] [FISH] The crop moonshine has a value change for 11.02\n"
     ]
    },
    {
     "name": "stderr",
     "output_type": "stream",
     "text": [
      "INFO:agrimarketwatcher:[FISH] The crop moonshine has a value change for 11.02\n"
     ]
    },
    {
     "name": "stdout",
     "output_type": "stream",
     "text": [
      "2021-04-30 20:57:10,920,920 INFO     [pushserver.py:144] [FISH] Skipping notification\n"
     ]
    },
    {
     "name": "stderr",
     "output_type": "stream",
     "text": [
      "INFO:agrimarketwatcher:[FISH] Skipping notification\n"
     ]
    },
    {
     "name": "stdout",
     "output_type": "stream",
     "text": [
      "2021-04-30 20:57:10,923,923 INFO     [pushserver.py:136] [FISH] The crop moonshine has a value change for 15.43\n"
     ]
    },
    {
     "name": "stderr",
     "output_type": "stream",
     "text": [
      "INFO:agrimarketwatcher:[FISH] The crop moonshine has a value change for 15.43\n"
     ]
    },
    {
     "name": "stdout",
     "output_type": "stream",
     "text": [
      "2021-04-30 20:57:10,925,925 INFO     [pushserver.py:144] [FISH] Skipping notification\n"
     ]
    },
    {
     "name": "stderr",
     "output_type": "stream",
     "text": [
      "INFO:agrimarketwatcher:[FISH] Skipping notification\n"
     ]
    },
    {
     "name": "stdout",
     "output_type": "stream",
     "text": [
      "2021-04-30 20:57:10,929,929 INFO     [pushserver.py:136] [FISH] The crop red fish has a value change for 44.09\n"
     ]
    },
    {
     "name": "stderr",
     "output_type": "stream",
     "text": [
      "INFO:agrimarketwatcher:[FISH] The crop red fish has a value change for 44.09\n"
     ]
    },
    {
     "name": "stdout",
     "output_type": "stream",
     "text": [
      "2021-04-30 20:57:10,932,932 INFO     [pushserver.py:144] [FISH] Skipping notification\n"
     ]
    },
    {
     "name": "stderr",
     "output_type": "stream",
     "text": [
      "INFO:agrimarketwatcher:[FISH] Skipping notification\n"
     ]
    },
    {
     "name": "stdout",
     "output_type": "stream",
     "text": [
      "2021-04-30 20:57:10,935,935 INFO     [pushserver.py:136] [FISH] The crop red fish has a value change for 49.61\n"
     ]
    },
    {
     "name": "stderr",
     "output_type": "stream",
     "text": [
      "INFO:agrimarketwatcher:[FISH] The crop red fish has a value change for 49.61\n"
     ]
    },
    {
     "name": "stdout",
     "output_type": "stream",
     "text": [
      "2021-04-30 20:57:10,938,938 INFO     [pushserver.py:144] [FISH] Skipping notification\n"
     ]
    },
    {
     "name": "stderr",
     "output_type": "stream",
     "text": [
      "INFO:agrimarketwatcher:[FISH] Skipping notification\n"
     ]
    },
    {
     "name": "stdout",
     "output_type": "stream",
     "text": [
      "2021-04-30 20:57:10,941,941 INFO     [pushserver.py:136] [FISH] The crop salmon has a value change for 44.09\n"
     ]
    },
    {
     "name": "stderr",
     "output_type": "stream",
     "text": [
      "INFO:agrimarketwatcher:[FISH] The crop salmon has a value change for 44.09\n"
     ]
    },
    {
     "name": "stdout",
     "output_type": "stream",
     "text": [
      "2021-04-30 20:57:10,944,944 INFO     [pushserver.py:144] [FISH] Skipping notification\n"
     ]
    },
    {
     "name": "stderr",
     "output_type": "stream",
     "text": [
      "INFO:agrimarketwatcher:[FISH] Skipping notification\n"
     ]
    },
    {
     "name": "stdout",
     "output_type": "stream",
     "text": [
      "2021-04-30 20:57:10,947,947 INFO     [pushserver.py:136] [FISH] The crop salmon has a value change for 45.56\n"
     ]
    },
    {
     "name": "stderr",
     "output_type": "stream",
     "text": [
      "INFO:agrimarketwatcher:[FISH] The crop salmon has a value change for 45.56\n"
     ]
    },
    {
     "name": "stdout",
     "output_type": "stream",
     "text": [
      "2021-04-30 20:57:10,949,949 INFO     [pushserver.py:144] [FISH] Skipping notification\n"
     ]
    },
    {
     "name": "stderr",
     "output_type": "stream",
     "text": [
      "INFO:agrimarketwatcher:[FISH] Skipping notification\n"
     ]
    },
    {
     "name": "stdout",
     "output_type": "stream",
     "text": [
      "2021-04-30 20:57:10,953,953 INFO     [pushserver.py:136] [FISH] The crop sardine has a value change for 8.82\n"
     ]
    },
    {
     "name": "stderr",
     "output_type": "stream",
     "text": [
      "INFO:agrimarketwatcher:[FISH] The crop sardine has a value change for 8.82\n"
     ]
    },
    {
     "name": "stdout",
     "output_type": "stream",
     "text": [
      "2021-04-30 20:57:10,956,956 INFO     [pushserver.py:144] [FISH] Skipping notification\n"
     ]
    },
    {
     "name": "stderr",
     "output_type": "stream",
     "text": [
      "INFO:agrimarketwatcher:[FISH] Skipping notification\n"
     ]
    },
    {
     "name": "stdout",
     "output_type": "stream",
     "text": [
      "2021-04-30 20:57:10,959,959 INFO     [pushserver.py:136] [FISH] The crop sardine has a value change for 8.82\n"
     ]
    },
    {
     "name": "stderr",
     "output_type": "stream",
     "text": [
      "INFO:agrimarketwatcher:[FISH] The crop sardine has a value change for 8.82\n"
     ]
    },
    {
     "name": "stdout",
     "output_type": "stream",
     "text": [
      "2021-04-30 20:57:10,962,962 INFO     [pushserver.py:144] [FISH] Skipping notification\n"
     ]
    },
    {
     "name": "stderr",
     "output_type": "stream",
     "text": [
      "INFO:agrimarketwatcher:[FISH] Skipping notification\n"
     ]
    },
    {
     "name": "stdout",
     "output_type": "stream",
     "text": [
      "2021-04-30 20:57:10,965,965 INFO     [pushserver.py:136] [FISH] The crop shark has a value change for 22.05\n"
     ]
    },
    {
     "name": "stderr",
     "output_type": "stream",
     "text": [
      "INFO:agrimarketwatcher:[FISH] The crop shark has a value change for 22.05\n"
     ]
    },
    {
     "name": "stdout",
     "output_type": "stream",
     "text": [
      "2021-04-30 20:57:10,967,967 INFO     [pushserver.py:144] [FISH] Skipping notification\n"
     ]
    },
    {
     "name": "stderr",
     "output_type": "stream",
     "text": [
      "INFO:agrimarketwatcher:[FISH] Skipping notification\n"
     ]
    },
    {
     "name": "stdout",
     "output_type": "stream",
     "text": [
      "2021-04-30 20:57:10,970,970 INFO     [pushserver.py:136] [FISH] The crop shark has a value change for 22.05\n"
     ]
    },
    {
     "name": "stderr",
     "output_type": "stream",
     "text": [
      "INFO:agrimarketwatcher:[FISH] The crop shark has a value change for 22.05\n"
     ]
    },
    {
     "name": "stdout",
     "output_type": "stream",
     "text": [
      "2021-04-30 20:57:10,973,973 INFO     [pushserver.py:144] [FISH] Skipping notification\n"
     ]
    },
    {
     "name": "stderr",
     "output_type": "stream",
     "text": [
      "INFO:agrimarketwatcher:[FISH] Skipping notification\n"
     ]
    },
    {
     "name": "stdout",
     "output_type": "stream",
     "text": [
      "2021-04-30 20:57:10,976,976 INFO     [pushserver.py:136] [FISH] The crop shrimp (l) has a value change for 66.69\n"
     ]
    },
    {
     "name": "stderr",
     "output_type": "stream",
     "text": [
      "INFO:agrimarketwatcher:[FISH] The crop shrimp (l) has a value change for 66.69\n"
     ]
    },
    {
     "name": "stdout",
     "output_type": "stream",
     "text": [
      "2021-04-30 20:57:10,979,979 INFO     [pushserver.py:144] [FISH] Skipping notification\n"
     ]
    },
    {
     "name": "stderr",
     "output_type": "stream",
     "text": [
      "INFO:agrimarketwatcher:[FISH] Skipping notification\n"
     ]
    },
    {
     "name": "stdout",
     "output_type": "stream",
     "text": [
      "2021-04-30 20:57:10,982,982 INFO     [pushserver.py:136] [FISH] The crop shrimp (m) has a value change for 66.14\n"
     ]
    },
    {
     "name": "stderr",
     "output_type": "stream",
     "text": [
      "INFO:agrimarketwatcher:[FISH] The crop shrimp (m) has a value change for 66.14\n"
     ]
    },
    {
     "name": "stdout",
     "output_type": "stream",
     "text": [
      "2021-04-30 20:57:10,985,985 INFO     [pushserver.py:144] [FISH] Skipping notification\n"
     ]
    },
    {
     "name": "stderr",
     "output_type": "stream",
     "text": [
      "INFO:agrimarketwatcher:[FISH] Skipping notification\n"
     ]
    },
    {
     "name": "stdout",
     "output_type": "stream",
     "text": [
      "2021-04-30 20:57:10,988,988 INFO     [pushserver.py:136] [FISH] The crop shrimp (m) has a value change for 37.16\n"
     ]
    },
    {
     "name": "stderr",
     "output_type": "stream",
     "text": [
      "INFO:agrimarketwatcher:[FISH] The crop shrimp (m) has a value change for 37.16\n"
     ]
    },
    {
     "name": "stdout",
     "output_type": "stream",
     "text": [
      "2021-04-30 20:57:10,991,991 INFO     [pushserver.py:144] [FISH] Skipping notification\n"
     ]
    },
    {
     "name": "stderr",
     "output_type": "stream",
     "text": [
      "INFO:agrimarketwatcher:[FISH] Skipping notification\n"
     ]
    },
    {
     "name": "stdout",
     "output_type": "stream",
     "text": [
      "2021-04-30 20:57:10,994,994 INFO     [pushserver.py:136] [FISH] The crop shrimp (s) has a value change for 22.05\n"
     ]
    },
    {
     "name": "stderr",
     "output_type": "stream",
     "text": [
      "INFO:agrimarketwatcher:[FISH] The crop shrimp (s) has a value change for 22.05\n"
     ]
    },
    {
     "name": "stdout",
     "output_type": "stream",
     "text": [
      "2021-04-30 20:57:10,998,998 INFO     [pushserver.py:144] [FISH] Skipping notification\n"
     ]
    },
    {
     "name": "stderr",
     "output_type": "stream",
     "text": [
      "INFO:agrimarketwatcher:[FISH] Skipping notification\n"
     ]
    },
    {
     "name": "stdout",
     "output_type": "stream",
     "text": [
      "2021-04-30 20:57:11,001,1 INFO     [pushserver.py:136] [FISH] The crop tuna has a value change for 13.23\n"
     ]
    },
    {
     "name": "stderr",
     "output_type": "stream",
     "text": [
      "INFO:agrimarketwatcher:[FISH] The crop tuna has a value change for 13.23\n"
     ]
    },
    {
     "name": "stdout",
     "output_type": "stream",
     "text": [
      "2021-04-30 20:57:11,003,3 INFO     [pushserver.py:144] [FISH] Skipping notification\n"
     ]
    },
    {
     "name": "stderr",
     "output_type": "stream",
     "text": [
      "INFO:agrimarketwatcher:[FISH] Skipping notification\n"
     ]
    },
    {
     "name": "stdout",
     "output_type": "stream",
     "text": [
      "2021-04-30 20:57:11,007,7 INFO     [pushserver.py:136] [FISH] The crop white fish has a value change for 6.61\n"
     ]
    },
    {
     "name": "stderr",
     "output_type": "stream",
     "text": [
      "INFO:agrimarketwatcher:[FISH] The crop white fish has a value change for 6.61\n"
     ]
    },
    {
     "name": "stdout",
     "output_type": "stream",
     "text": [
      "2021-04-30 20:57:11,010,10 INFO     [pushserver.py:144] [FISH] Skipping notification\n"
     ]
    },
    {
     "name": "stderr",
     "output_type": "stream",
     "text": [
      "INFO:agrimarketwatcher:[FISH] Skipping notification\n"
     ]
    },
    {
     "name": "stdout",
     "output_type": "stream",
     "text": [
      "2021-04-30 20:57:11,013,13 INFO     [pushserver.py:136] [FISH] The crop bachin has a value change for 33.07\n"
     ]
    },
    {
     "name": "stderr",
     "output_type": "stream",
     "text": [
      "INFO:agrimarketwatcher:[FISH] The crop bachin has a value change for 33.07\n"
     ]
    },
    {
     "name": "stdout",
     "output_type": "stream",
     "text": [
      "2021-04-30 20:57:11,016,16 INFO     [pushserver.py:144] [FISH] Skipping notification\n"
     ]
    },
    {
     "name": "stderr",
     "output_type": "stream",
     "text": [
      "INFO:agrimarketwatcher:[FISH] Skipping notification\n"
     ]
    },
    {
     "name": "stdout",
     "output_type": "stream",
     "text": [
      "2021-04-30 20:57:11,019,19 INFO     [pushserver.py:136] [FISH] The crop blue marlin has a value change for 17.64\n"
     ]
    },
    {
     "name": "stderr",
     "output_type": "stream",
     "text": [
      "INFO:agrimarketwatcher:[FISH] The crop blue marlin has a value change for 17.64\n"
     ]
    },
    {
     "name": "stdout",
     "output_type": "stream",
     "text": [
      "2021-04-30 20:57:11,022,22 INFO     [pushserver.py:144] [FISH] Skipping notification\n"
     ]
    },
    {
     "name": "stderr",
     "output_type": "stream",
     "text": [
      "INFO:agrimarketwatcher:[FISH] Skipping notification\n"
     ]
    },
    {
     "name": "stdout",
     "output_type": "stream",
     "text": [
      "2021-04-30 20:57:11,025,25 INFO     [pushserver.py:136] [FISH] The crop bonito has a value change for 2.2\n"
     ]
    },
    {
     "name": "stderr",
     "output_type": "stream",
     "text": [
      "INFO:agrimarketwatcher:[FISH] The crop bonito has a value change for 2.2\n"
     ]
    },
    {
     "name": "stdout",
     "output_type": "stream",
     "text": [
      "2021-04-30 20:57:11,028,28 INFO     [pushserver.py:144] [FISH] Skipping notification\n"
     ]
    },
    {
     "name": "stderr",
     "output_type": "stream",
     "text": [
      "INFO:agrimarketwatcher:[FISH] Skipping notification\n"
     ]
    },
    {
     "name": "stdout",
     "output_type": "stream",
     "text": [
      "2021-04-30 20:57:11,031,31 INFO     [pushserver.py:136] [FISH] The crop brochet has a value change for 22.05\n"
     ]
    },
    {
     "name": "stderr",
     "output_type": "stream",
     "text": [
      "INFO:agrimarketwatcher:[FISH] The crop brochet has a value change for 22.05\n"
     ]
    },
    {
     "name": "stdout",
     "output_type": "stream",
     "text": [
      "2021-04-30 20:57:11,034,34 INFO     [pushserver.py:144] [FISH] Skipping notification\n"
     ]
    },
    {
     "name": "stderr",
     "output_type": "stream",
     "text": [
      "INFO:agrimarketwatcher:[FISH] Skipping notification\n"
     ]
    },
    {
     "name": "stdout",
     "output_type": "stream",
     "text": [
      "2021-04-30 20:57:11,037,37 INFO     [pushserver.py:136] [FISH] The crop brochet has a value change for 28.66\n"
     ]
    },
    {
     "name": "stderr",
     "output_type": "stream",
     "text": [
      "INFO:agrimarketwatcher:[FISH] The crop brochet has a value change for 28.66\n"
     ]
    },
    {
     "name": "stdout",
     "output_type": "stream",
     "text": [
      "2021-04-30 20:57:11,040,40 INFO     [pushserver.py:144] [FISH] Skipping notification\n"
     ]
    },
    {
     "name": "stderr",
     "output_type": "stream",
     "text": [
      "INFO:agrimarketwatcher:[FISH] Skipping notification\n"
     ]
    },
    {
     "name": "stdout",
     "output_type": "stream",
     "text": [
      "2021-04-30 20:57:11,043,43 INFO     [pushserver.py:136] [FISH] The crop carite has a value change for 50.71\n"
     ]
    },
    {
     "name": "stderr",
     "output_type": "stream",
     "text": [
      "INFO:agrimarketwatcher:[FISH] The crop carite has a value change for 50.71\n"
     ]
    },
    {
     "name": "stdout",
     "output_type": "stream",
     "text": [
      "2021-04-30 20:57:11,046,46 INFO     [pushserver.py:144] [FISH] Skipping notification\n"
     ]
    },
    {
     "name": "stderr",
     "output_type": "stream",
     "text": [
      "INFO:agrimarketwatcher:[FISH] Skipping notification\n"
     ]
    },
    {
     "name": "stdout",
     "output_type": "stream",
     "text": [
      "2021-04-30 20:57:11,049,49 INFO     [pushserver.py:136] [FISH] The crop cascadura has a value change for 26.46\n"
     ]
    },
    {
     "name": "stderr",
     "output_type": "stream",
     "text": [
      "INFO:agrimarketwatcher:[FISH] The crop cascadura has a value change for 26.46\n"
     ]
    },
    {
     "name": "stdout",
     "output_type": "stream",
     "text": [
      "2021-04-30 20:57:11,052,52 INFO     [pushserver.py:144] [FISH] Skipping notification\n"
     ]
    },
    {
     "name": "stderr",
     "output_type": "stream",
     "text": [
      "INFO:agrimarketwatcher:[FISH] Skipping notification\n"
     ]
    },
    {
     "name": "stdout",
     "output_type": "stream",
     "text": [
      "2021-04-30 20:57:11,055,55 INFO     [pushserver.py:136] [FISH] The crop catfish has a value change for 6.61\n"
     ]
    },
    {
     "name": "stderr",
     "output_type": "stream",
     "text": [
      "INFO:agrimarketwatcher:[FISH] The crop catfish has a value change for 6.61\n"
     ]
    },
    {
     "name": "stdout",
     "output_type": "stream",
     "text": [
      "2021-04-30 20:57:11,058,58 INFO     [pushserver.py:144] [FISH] Skipping notification\n"
     ]
    },
    {
     "name": "stderr",
     "output_type": "stream",
     "text": [
      "INFO:agrimarketwatcher:[FISH] Skipping notification\n"
     ]
    },
    {
     "name": "stdout",
     "output_type": "stream",
     "text": [
      "2021-04-30 20:57:11,061,61 INFO     [pushserver.py:136] [FISH] The crop cavali has a value change for 19.85\n"
     ]
    },
    {
     "name": "stderr",
     "output_type": "stream",
     "text": [
      "INFO:agrimarketwatcher:[FISH] The crop cavali has a value change for 19.85\n"
     ]
    },
    {
     "name": "stdout",
     "output_type": "stream",
     "text": [
      "2021-04-30 20:57:11,065,65 INFO     [pushserver.py:144] [FISH] Skipping notification\n"
     ]
    },
    {
     "name": "stderr",
     "output_type": "stream",
     "text": [
      "INFO:agrimarketwatcher:[FISH] Skipping notification\n"
     ]
    },
    {
     "name": "stdout",
     "output_type": "stream",
     "text": [
      "2021-04-30 20:57:11,068,68 INFO     [pushserver.py:136] [FISH] The crop cavali has a value change for 22.05\n"
     ]
    },
    {
     "name": "stderr",
     "output_type": "stream",
     "text": [
      "INFO:agrimarketwatcher:[FISH] The crop cavali has a value change for 22.05\n"
     ]
    },
    {
     "name": "stdout",
     "output_type": "stream",
     "text": [
      "2021-04-30 20:57:11,071,71 INFO     [pushserver.py:144] [FISH] Skipping notification\n"
     ]
    },
    {
     "name": "stderr",
     "output_type": "stream",
     "text": [
      "INFO:agrimarketwatcher:[FISH] Skipping notification\n"
     ]
    },
    {
     "name": "stdout",
     "output_type": "stream",
     "text": [
      "2021-04-30 20:57:11,074,74 INFO     [pushserver.py:136] [FISH] The crop crocro has a value change for 16.54\n"
     ]
    },
    {
     "name": "stderr",
     "output_type": "stream",
     "text": [
      "INFO:agrimarketwatcher:[FISH] The crop crocro has a value change for 16.54\n"
     ]
    },
    {
     "name": "stdout",
     "output_type": "stream",
     "text": [
      "2021-04-30 20:57:11,077,77 INFO     [pushserver.py:144] [FISH] Skipping notification\n"
     ]
    },
    {
     "name": "stderr",
     "output_type": "stream",
     "text": [
      "INFO:agrimarketwatcher:[FISH] Skipping notification\n"
     ]
    },
    {
     "name": "stdout",
     "output_type": "stream",
     "text": [
      "2021-04-30 20:57:11,080,80 INFO     [pushserver.py:136] [FISH] The crop crocro has a value change for 19.11\n"
     ]
    },
    {
     "name": "stderr",
     "output_type": "stream",
     "text": [
      "INFO:agrimarketwatcher:[FISH] The crop crocro has a value change for 19.11\n"
     ]
    },
    {
     "name": "stdout",
     "output_type": "stream",
     "text": [
      "2021-04-30 20:57:11,083,83 INFO     [pushserver.py:144] [FISH] Skipping notification\n"
     ]
    },
    {
     "name": "stderr",
     "output_type": "stream",
     "text": [
      "INFO:agrimarketwatcher:[FISH] Skipping notification\n"
     ]
    },
    {
     "name": "stdout",
     "output_type": "stream",
     "text": [
      "2021-04-30 20:57:11,086,86 INFO     [pushserver.py:136] [FISH] The crop dolphin has a value change for 26.46\n"
     ]
    },
    {
     "name": "stderr",
     "output_type": "stream",
     "text": [
      "INFO:agrimarketwatcher:[FISH] The crop dolphin has a value change for 26.46\n"
     ]
    },
    {
     "name": "stdout",
     "output_type": "stream",
     "text": [
      "2021-04-30 20:57:11,088,88 INFO     [pushserver.py:144] [FISH] Skipping notification\n"
     ]
    },
    {
     "name": "stderr",
     "output_type": "stream",
     "text": [
      "INFO:agrimarketwatcher:[FISH] Skipping notification\n"
     ]
    },
    {
     "name": "stdout",
     "output_type": "stream",
     "text": [
      "2021-04-30 20:57:11,092,92 INFO     [pushserver.py:136] [FISH] The crop jack has a value change for 8.82\n"
     ]
    },
    {
     "name": "stderr",
     "output_type": "stream",
     "text": [
      "INFO:agrimarketwatcher:[FISH] The crop jack has a value change for 8.82\n"
     ]
    },
    {
     "name": "stdout",
     "output_type": "stream",
     "text": [
      "2021-04-30 20:57:11,095,95 INFO     [pushserver.py:144] [FISH] Skipping notification\n"
     ]
    },
    {
     "name": "stderr",
     "output_type": "stream",
     "text": [
      "INFO:agrimarketwatcher:[FISH] Skipping notification\n"
     ]
    },
    {
     "name": "stdout",
     "output_type": "stream",
     "text": [
      "2021-04-30 20:57:11,098,98 INFO     [pushserver.py:136] [FISH] The crop king fish has a value change for 52.91\n"
     ]
    },
    {
     "name": "stderr",
     "output_type": "stream",
     "text": [
      "INFO:agrimarketwatcher:[FISH] The crop king fish has a value change for 52.91\n"
     ]
    },
    {
     "name": "stdout",
     "output_type": "stream",
     "text": [
      "2021-04-30 20:57:11,101,101 INFO     [pushserver.py:144] [FISH] Skipping notification\n"
     ]
    },
    {
     "name": "stderr",
     "output_type": "stream",
     "text": [
      "INFO:agrimarketwatcher:[FISH] Skipping notification\n"
     ]
    },
    {
     "name": "stdout",
     "output_type": "stream",
     "text": [
      "2021-04-30 20:57:11,104,104 INFO     [pushserver.py:136] [FISH] The crop king fish has a value change for 48.5\n"
     ]
    },
    {
     "name": "stderr",
     "output_type": "stream",
     "text": [
      "INFO:agrimarketwatcher:[FISH] The crop king fish has a value change for 48.5\n"
     ]
    },
    {
     "name": "stdout",
     "output_type": "stream",
     "text": [
      "2021-04-30 20:57:11,107,107 INFO     [pushserver.py:144] [FISH] Skipping notification\n"
     ]
    },
    {
     "name": "stderr",
     "output_type": "stream",
     "text": [
      "INFO:agrimarketwatcher:[FISH] Skipping notification\n"
     ]
    },
    {
     "name": "stdout",
     "output_type": "stream",
     "text": [
      "2021-04-30 20:57:11,111,111 INFO     [pushserver.py:136] [FISH] The crop mixed fish has a value change for 11.02\n"
     ]
    },
    {
     "name": "stderr",
     "output_type": "stream",
     "text": [
      "INFO:agrimarketwatcher:[FISH] The crop mixed fish has a value change for 11.02\n"
     ]
    },
    {
     "name": "stdout",
     "output_type": "stream",
     "text": [
      "2021-04-30 20:57:11,114,114 INFO     [pushserver.py:144] [FISH] Skipping notification\n"
     ]
    },
    {
     "name": "stderr",
     "output_type": "stream",
     "text": [
      "INFO:agrimarketwatcher:[FISH] Skipping notification\n"
     ]
    },
    {
     "name": "stdout",
     "output_type": "stream",
     "text": [
      "2021-04-30 20:57:11,117,117 INFO     [pushserver.py:136] [FISH] The crop mixed fish has a value change for 7.35\n"
     ]
    },
    {
     "name": "stderr",
     "output_type": "stream",
     "text": [
      "INFO:agrimarketwatcher:[FISH] The crop mixed fish has a value change for 7.35\n"
     ]
    },
    {
     "name": "stdout",
     "output_type": "stream",
     "text": [
      "2021-04-30 20:57:11,120,120 INFO     [pushserver.py:144] [FISH] Skipping notification\n"
     ]
    },
    {
     "name": "stderr",
     "output_type": "stream",
     "text": [
      "INFO:agrimarketwatcher:[FISH] Skipping notification\n"
     ]
    },
    {
     "name": "stdout",
     "output_type": "stream",
     "text": [
      "2021-04-30 20:57:11,123,123 INFO     [pushserver.py:136] [FISH] The crop moonshine has a value change for 11.02\n"
     ]
    },
    {
     "name": "stderr",
     "output_type": "stream",
     "text": [
      "INFO:agrimarketwatcher:[FISH] The crop moonshine has a value change for 11.02\n"
     ]
    },
    {
     "name": "stdout",
     "output_type": "stream",
     "text": [
      "2021-04-30 20:57:11,126,126 INFO     [pushserver.py:144] [FISH] Skipping notification\n"
     ]
    },
    {
     "name": "stderr",
     "output_type": "stream",
     "text": [
      "INFO:agrimarketwatcher:[FISH] Skipping notification\n"
     ]
    },
    {
     "name": "stdout",
     "output_type": "stream",
     "text": [
      "2021-04-30 20:57:11,129,129 INFO     [pushserver.py:136] [FISH] The crop moonshine has a value change for 15.43\n"
     ]
    },
    {
     "name": "stderr",
     "output_type": "stream",
     "text": [
      "INFO:agrimarketwatcher:[FISH] The crop moonshine has a value change for 15.43\n"
     ]
    },
    {
     "name": "stdout",
     "output_type": "stream",
     "text": [
      "2021-04-30 20:57:11,131,131 INFO     [pushserver.py:144] [FISH] Skipping notification\n"
     ]
    },
    {
     "name": "stderr",
     "output_type": "stream",
     "text": [
      "INFO:agrimarketwatcher:[FISH] Skipping notification\n"
     ]
    },
    {
     "name": "stdout",
     "output_type": "stream",
     "text": [
      "2021-04-30 20:57:11,135,135 INFO     [pushserver.py:136] [FISH] The crop red fish has a value change for 44.09\n"
     ]
    },
    {
     "name": "stderr",
     "output_type": "stream",
     "text": [
      "INFO:agrimarketwatcher:[FISH] The crop red fish has a value change for 44.09\n"
     ]
    },
    {
     "name": "stdout",
     "output_type": "stream",
     "text": [
      "2021-04-30 20:57:11,138,138 INFO     [pushserver.py:144] [FISH] Skipping notification\n"
     ]
    },
    {
     "name": "stderr",
     "output_type": "stream",
     "text": [
      "INFO:agrimarketwatcher:[FISH] Skipping notification\n"
     ]
    },
    {
     "name": "stdout",
     "output_type": "stream",
     "text": [
      "2021-04-30 20:57:11,141,141 INFO     [pushserver.py:136] [FISH] The crop red fish has a value change for 49.61\n"
     ]
    },
    {
     "name": "stderr",
     "output_type": "stream",
     "text": [
      "INFO:agrimarketwatcher:[FISH] The crop red fish has a value change for 49.61\n"
     ]
    },
    {
     "name": "stdout",
     "output_type": "stream",
     "text": [
      "2021-04-30 20:57:11,143,143 INFO     [pushserver.py:144] [FISH] Skipping notification\n"
     ]
    },
    {
     "name": "stderr",
     "output_type": "stream",
     "text": [
      "INFO:agrimarketwatcher:[FISH] Skipping notification\n"
     ]
    },
    {
     "name": "stdout",
     "output_type": "stream",
     "text": [
      "2021-04-30 20:57:11,146,146 INFO     [pushserver.py:136] [FISH] The crop salmon has a value change for 44.09\n"
     ]
    },
    {
     "name": "stderr",
     "output_type": "stream",
     "text": [
      "INFO:agrimarketwatcher:[FISH] The crop salmon has a value change for 44.09\n"
     ]
    },
    {
     "name": "stdout",
     "output_type": "stream",
     "text": [
      "2021-04-30 20:57:11,149,149 INFO     [pushserver.py:144] [FISH] Skipping notification\n"
     ]
    },
    {
     "name": "stderr",
     "output_type": "stream",
     "text": [
      "INFO:agrimarketwatcher:[FISH] Skipping notification\n"
     ]
    },
    {
     "name": "stdout",
     "output_type": "stream",
     "text": [
      "2021-04-30 20:57:11,152,152 INFO     [pushserver.py:136] [FISH] The crop salmon has a value change for 45.56\n"
     ]
    },
    {
     "name": "stderr",
     "output_type": "stream",
     "text": [
      "INFO:agrimarketwatcher:[FISH] The crop salmon has a value change for 45.56\n"
     ]
    },
    {
     "name": "stdout",
     "output_type": "stream",
     "text": [
      "2021-04-30 20:57:11,155,155 INFO     [pushserver.py:144] [FISH] Skipping notification\n"
     ]
    },
    {
     "name": "stderr",
     "output_type": "stream",
     "text": [
      "INFO:agrimarketwatcher:[FISH] Skipping notification\n"
     ]
    },
    {
     "name": "stdout",
     "output_type": "stream",
     "text": [
      "2021-04-30 20:57:11,158,158 INFO     [pushserver.py:136] [FISH] The crop sardine has a value change for 8.82\n"
     ]
    },
    {
     "name": "stderr",
     "output_type": "stream",
     "text": [
      "INFO:agrimarketwatcher:[FISH] The crop sardine has a value change for 8.82\n"
     ]
    },
    {
     "name": "stdout",
     "output_type": "stream",
     "text": [
      "2021-04-30 20:57:11,161,161 INFO     [pushserver.py:144] [FISH] Skipping notification\n"
     ]
    },
    {
     "name": "stderr",
     "output_type": "stream",
     "text": [
      "INFO:agrimarketwatcher:[FISH] Skipping notification\n"
     ]
    },
    {
     "name": "stdout",
     "output_type": "stream",
     "text": [
      "2021-04-30 20:57:11,164,164 INFO     [pushserver.py:136] [FISH] The crop shark has a value change for 22.05\n"
     ]
    },
    {
     "name": "stderr",
     "output_type": "stream",
     "text": [
      "INFO:agrimarketwatcher:[FISH] The crop shark has a value change for 22.05\n"
     ]
    },
    {
     "name": "stdout",
     "output_type": "stream",
     "text": [
      "2021-04-30 20:57:11,167,167 INFO     [pushserver.py:144] [FISH] Skipping notification\n"
     ]
    },
    {
     "name": "stderr",
     "output_type": "stream",
     "text": [
      "INFO:agrimarketwatcher:[FISH] Skipping notification\n"
     ]
    },
    {
     "name": "stdout",
     "output_type": "stream",
     "text": [
      "2021-04-30 20:57:11,170,170 INFO     [pushserver.py:136] [FISH] The crop shark has a value change for 22.05\n"
     ]
    },
    {
     "name": "stderr",
     "output_type": "stream",
     "text": [
      "INFO:agrimarketwatcher:[FISH] The crop shark has a value change for 22.05\n"
     ]
    },
    {
     "name": "stdout",
     "output_type": "stream",
     "text": [
      "2021-04-30 20:57:11,173,173 INFO     [pushserver.py:144] [FISH] Skipping notification\n"
     ]
    },
    {
     "name": "stderr",
     "output_type": "stream",
     "text": [
      "INFO:agrimarketwatcher:[FISH] Skipping notification\n"
     ]
    },
    {
     "name": "stdout",
     "output_type": "stream",
     "text": [
      "2021-04-30 20:57:11,176,176 INFO     [pushserver.py:136] [FISH] The crop shrimp (l) has a value change for 66.69\n"
     ]
    },
    {
     "name": "stderr",
     "output_type": "stream",
     "text": [
      "INFO:agrimarketwatcher:[FISH] The crop shrimp (l) has a value change for 66.69\n"
     ]
    },
    {
     "name": "stdout",
     "output_type": "stream",
     "text": [
      "2021-04-30 20:57:11,180,180 INFO     [pushserver.py:144] [FISH] Skipping notification\n"
     ]
    },
    {
     "name": "stderr",
     "output_type": "stream",
     "text": [
      "INFO:agrimarketwatcher:[FISH] Skipping notification\n"
     ]
    },
    {
     "name": "stdout",
     "output_type": "stream",
     "text": [
      "2021-04-30 20:57:11,183,183 INFO     [pushserver.py:136] [FISH] The crop shrimp (m) has a value change for 66.14\n"
     ]
    },
    {
     "name": "stderr",
     "output_type": "stream",
     "text": [
      "INFO:agrimarketwatcher:[FISH] The crop shrimp (m) has a value change for 66.14\n"
     ]
    },
    {
     "name": "stdout",
     "output_type": "stream",
     "text": [
      "2021-04-30 20:57:11,186,186 INFO     [pushserver.py:144] [FISH] Skipping notification\n"
     ]
    },
    {
     "name": "stderr",
     "output_type": "stream",
     "text": [
      "INFO:agrimarketwatcher:[FISH] Skipping notification\n"
     ]
    },
    {
     "name": "stdout",
     "output_type": "stream",
     "text": [
      "2021-04-30 20:57:11,188,188 INFO     [pushserver.py:136] [FISH] The crop shrimp (m) has a value change for 37.16\n"
     ]
    },
    {
     "name": "stderr",
     "output_type": "stream",
     "text": [
      "INFO:agrimarketwatcher:[FISH] The crop shrimp (m) has a value change for 37.16\n"
     ]
    },
    {
     "name": "stdout",
     "output_type": "stream",
     "text": [
      "2021-04-30 20:57:11,191,191 INFO     [pushserver.py:144] [FISH] Skipping notification\n"
     ]
    },
    {
     "name": "stderr",
     "output_type": "stream",
     "text": [
      "INFO:agrimarketwatcher:[FISH] Skipping notification\n"
     ]
    },
    {
     "name": "stdout",
     "output_type": "stream",
     "text": [
      "2021-04-30 20:57:11,194,194 INFO     [pushserver.py:136] [FISH] The crop shrimp (s) has a value change for 22.05\n"
     ]
    },
    {
     "name": "stderr",
     "output_type": "stream",
     "text": [
      "INFO:agrimarketwatcher:[FISH] The crop shrimp (s) has a value change for 22.05\n"
     ]
    },
    {
     "name": "stdout",
     "output_type": "stream",
     "text": [
      "2021-04-30 20:57:11,197,197 INFO     [pushserver.py:144] [FISH] Skipping notification\n"
     ]
    },
    {
     "name": "stderr",
     "output_type": "stream",
     "text": [
      "INFO:agrimarketwatcher:[FISH] Skipping notification\n"
     ]
    },
    {
     "name": "stdout",
     "output_type": "stream",
     "text": [
      "2021-04-30 20:57:11,200,200 INFO     [pushserver.py:136] [FISH] The crop tuna has a value change for 13.23\n"
     ]
    },
    {
     "name": "stderr",
     "output_type": "stream",
     "text": [
      "INFO:agrimarketwatcher:[FISH] The crop tuna has a value change for 13.23\n"
     ]
    },
    {
     "name": "stdout",
     "output_type": "stream",
     "text": [
      "2021-04-30 20:57:11,203,203 INFO     [pushserver.py:144] [FISH] Skipping notification\n"
     ]
    },
    {
     "name": "stderr",
     "output_type": "stream",
     "text": [
      "INFO:agrimarketwatcher:[FISH] Skipping notification\n"
     ]
    },
    {
     "name": "stdout",
     "output_type": "stream",
     "text": [
      "2021-04-30 20:57:11,206,206 INFO     [pushserver.py:136] [FISH] The crop white fish has a value change for 6.61\n"
     ]
    },
    {
     "name": "stderr",
     "output_type": "stream",
     "text": [
      "INFO:agrimarketwatcher:[FISH] The crop white fish has a value change for 6.61\n"
     ]
    },
    {
     "name": "stdout",
     "output_type": "stream",
     "text": [
      "2021-04-30 20:57:11,209,209 INFO     [pushserver.py:144] [FISH] Skipping notification\n"
     ]
    },
    {
     "name": "stderr",
     "output_type": "stream",
     "text": [
      "INFO:agrimarketwatcher:[FISH] Skipping notification\n"
     ]
    }
   ],
   "source": [
    "results = run(notify=False)"
   ]
  },
  {
   "cell_type": "code",
   "execution_count": 7,
   "metadata": {},
   "outputs": [
    {
     "name": "stdout",
     "output_type": "stream",
     "text": [
      "crops has 2 records\n",
      "fish has 96 records\n"
     ]
    }
   ],
   "source": [
    "for key in results.keys():\n",
    "    print(\"{0} has {1} records\".format(key, len(results[key])))"
   ]
  },
  {
   "cell_type": "code",
   "execution_count": 13,
   "metadata": {},
   "outputs": [
    {
     "name": "stdout",
     "output_type": "stream",
     "text": [
      "77\n"
     ]
    }
   ],
   "source": [
    "crops = results['crops']\n",
    "num_crops = len(crops['daily'])\n",
    "print(num_crops)"
   ]
  },
  {
   "cell_type": "code",
   "execution_count": 14,
   "metadata": {},
   "outputs": [
    {
     "data": {
      "text/plain": [
       "[{'category': 'ROOT CROPS',\n",
       "  'commodity': 'carrot',\n",
       "  'date': datetime.datetime(2021, 4, 30, 0, 0),\n",
       "  'price': 11.9,\n",
       "  'unit': 'Kg',\n",
       "  'volume': 6640.0},\n",
       " {'category': 'ROOT CROPS',\n",
       "  'commodity': 'cassava',\n",
       "  'date': datetime.datetime(2021, 4, 30, 0, 0),\n",
       "  'price': 4.44,\n",
       "  'unit': 'Kg',\n",
       "  'volume': 4176.0},\n",
       " {'category': 'ROOT CROPS',\n",
       "  'commodity': 'yam (local)',\n",
       "  'date': datetime.datetime(2021, 4, 30, 0, 0),\n",
       "  'price': 8.33,\n",
       "  'unit': 'Kg',\n",
       "  'volume': 540.0},\n",
       " {'category': 'ROOT CROPS',\n",
       "  'commodity': 'yam (imported)',\n",
       "  'date': datetime.datetime(2021, 4, 30, 0, 0),\n",
       "  'price': 26.46,\n",
       "  'unit': 'Kg',\n",
       "  'volume': 91.0},\n",
       " {'category': 'ROOT CROPS',\n",
       "  'commodity': 'dasheen(local)',\n",
       "  'date': datetime.datetime(2021, 4, 30, 0, 0),\n",
       "  'price': 8.33,\n",
       "  'unit': 'Kg',\n",
       "  'volume': 2092.0},\n",
       " {'category': 'ROOT CROPS',\n",
       "  'commodity': 'dasheen(imported)',\n",
       "  'date': datetime.datetime(2021, 4, 30, 0, 0),\n",
       "  'price': 7.78,\n",
       "  'unit': 'Kg',\n",
       "  'volume': 2475.0},\n",
       " {'category': 'ROOT CROPS',\n",
       "  'commodity': 'eddoe (local)',\n",
       "  'date': datetime.datetime(2021, 4, 30, 0, 0),\n",
       "  'price': 13.89,\n",
       "  'unit': 'Kg',\n",
       "  'volume': 1224.0},\n",
       " {'category': 'ROOT CROPS',\n",
       "  'commodity': 'eddoe (imported)',\n",
       "  'date': datetime.datetime(2021, 4, 30, 0, 0),\n",
       "  'price': 13.33,\n",
       "  'unit': 'Kg',\n",
       "  'volume': 1665.0},\n",
       " {'category': 'ROOT CROPS',\n",
       "  'commodity': 'sweet potato (local)',\n",
       "  'date': datetime.datetime(2021, 4, 30, 0, 0),\n",
       "  'price': 5.56,\n",
       "  'unit': 'Kg',\n",
       "  'volume': 5868.0},\n",
       " {'category': 'ROOT CROPS',\n",
       "  'commodity': 'sweet potato (imported)',\n",
       "  'date': datetime.datetime(2021, 4, 30, 0, 0),\n",
       "  'price': 0.0,\n",
       "  'unit': 'Kg',\n",
       "  'volume': 0.0},\n",
       " {'category': 'ROOT CROPS',\n",
       "  'commodity': 'ginger',\n",
       "  'date': datetime.datetime(2021, 4, 30, 0, 0),\n",
       "  'price': 33.07,\n",
       "  'unit': 'Kg',\n",
       "  'volume': 1513.0},\n",
       " {'category': 'CONDIMENTS AND SPICES',\n",
       "  'commodity': 'celery',\n",
       "  'date': datetime.datetime(2021, 4, 30, 0, 0),\n",
       "  'price': 40.0,\n",
       "  'unit': 'Bndl.',\n",
       "  'volume': 580.0},\n",
       " {'category': 'CONDIMENTS AND SPICES',\n",
       "  'commodity': 'chive (l)',\n",
       "  'date': datetime.datetime(2021, 4, 30, 0, 0),\n",
       "  'price': 20.0,\n",
       "  'unit': 'Bndl.',\n",
       "  'volume': 911.0},\n",
       " {'category': 'CONDIMENTS AND SPICES',\n",
       "  'commodity': 'thyme (s)',\n",
       "  'date': datetime.datetime(2021, 4, 30, 0, 0),\n",
       "  'price': 40.0,\n",
       "  'unit': 'Bndl.',\n",
       "  'volume': 47.0},\n",
       " {'category': 'CONDIMENTS AND SPICES',\n",
       "  'commodity': \"hot pepper (100's)\",\n",
       "  'date': datetime.datetime(2021, 4, 30, 0, 0),\n",
       "  'price': 25.0,\n",
       "  'unit': \"100's\",\n",
       "  'volume': 67.0},\n",
       " {'category': 'CONDIMENTS AND SPICES',\n",
       "  'commodity': 'hot pepper (40 lb)',\n",
       "  'date': datetime.datetime(2021, 4, 30, 0, 0),\n",
       "  'price': 160.0,\n",
       "  'unit': 'Bag',\n",
       "  'volume': 98.0},\n",
       " {'category': 'CONDIMENTS AND SPICES',\n",
       "  'commodity': 'shadon beni',\n",
       "  'date': datetime.datetime(2021, 4, 30, 0, 0),\n",
       "  'price': 12.0,\n",
       "  'unit': 'Bndl.',\n",
       "  'volume': 5670.0},\n",
       " {'category': 'CONDIMENTS AND SPICES',\n",
       "  'commodity': 'pimento (s)',\n",
       "  'date': datetime.datetime(2021, 4, 30, 0, 0),\n",
       "  'price': 15.0,\n",
       "  'unit': \"100's\",\n",
       "  'volume': 30.0},\n",
       " {'category': 'CONDIMENTS AND SPICES',\n",
       "  'commodity': 'pimento (m)',\n",
       "  'date': datetime.datetime(2021, 4, 30, 0, 0),\n",
       "  'price': 20.0,\n",
       "  'unit': \"100's\",\n",
       "  'volume': 2030.0},\n",
       " {'category': 'CONDIMENTS AND SPICES',\n",
       "  'commodity': 'pimento (l)',\n",
       "  'date': datetime.datetime(2021, 4, 30, 0, 0),\n",
       "  'price': 25.0,\n",
       "  'unit': \"100's\",\n",
       "  'volume': 900.0},\n",
       " {'category': 'LEAFY VEGETABLES',\n",
       "  'commodity': 'lettuce (s)',\n",
       "  'date': datetime.datetime(2021, 4, 30, 0, 0),\n",
       "  'price': 3.0,\n",
       "  'unit': 'Head',\n",
       "  'volume': 0.0},\n",
       " {'category': 'LEAFY VEGETABLES',\n",
       "  'commodity': 'lettuce (m)',\n",
       "  'date': datetime.datetime(2021, 4, 30, 0, 0),\n",
       "  'price': 4.0,\n",
       "  'unit': 'Head',\n",
       "  'volume': 400.0},\n",
       " {'category': 'LEAFY VEGETABLES',\n",
       "  'commodity': 'lettuce (l)',\n",
       "  'date': datetime.datetime(2021, 4, 30, 0, 0),\n",
       "  'price': 5.0,\n",
       "  'unit': 'Head',\n",
       "  'volume': 850.0},\n",
       " {'category': 'LEAFY VEGETABLES',\n",
       "  'commodity': 'patchoi',\n",
       "  'date': datetime.datetime(2021, 4, 30, 0, 0),\n",
       "  'price': 5.0,\n",
       "  'unit': 'Bndl.',\n",
       "  'volume': 730.0},\n",
       " {'category': 'LEAFY VEGETABLES',\n",
       "  'commodity': 'spinach (amarantus spp.)',\n",
       "  'date': datetime.datetime(2021, 4, 30, 0, 0),\n",
       "  'price': 5.0,\n",
       "  'unit': 'Bndl.',\n",
       "  'volume': 800.0},\n",
       " {'category': 'LEAFY VEGETABLES',\n",
       "  'commodity': 'cabbage (imported) (gn)',\n",
       "  'date': datetime.datetime(2021, 4, 30, 0, 0),\n",
       "  'price': 9.7,\n",
       "  'unit': 'Kg',\n",
       "  'volume': 3515.0},\n",
       " {'category': 'LEAFY VEGETABLES',\n",
       "  'commodity': 'cabbage(local) (gn)',\n",
       "  'date': datetime.datetime(2021, 4, 30, 0, 0),\n",
       "  'price': 15.43,\n",
       "  'unit': 'Kg',\n",
       "  'volume': 2132.0},\n",
       " {'category': 'LEAFY VEGETABLES',\n",
       "  'commodity': 'cabbage (white)',\n",
       "  'date': datetime.datetime(2021, 4, 30, 0, 0),\n",
       "  'price': 11.02,\n",
       "  'unit': 'Kg',\n",
       "  'volume': 749.0},\n",
       " {'category': 'LEAFY VEGETABLES',\n",
       "  'commodity': 'cabbage (imported) (purple)',\n",
       "  'date': datetime.datetime(2021, 4, 30, 0, 0),\n",
       "  'price': 13.23,\n",
       "  'unit': 'Kg',\n",
       "  'volume': 952.0},\n",
       " {'category': 'LEAFY VEGETABLES',\n",
       "  'commodity': 'callaloo bush (open)',\n",
       "  'date': datetime.datetime(2021, 4, 30, 0, 0),\n",
       "  'price': 4.0,\n",
       "  'unit': 'Bndl.',\n",
       "  'volume': 1320.0},\n",
       " {'category': 'LEAFY VEGETABLES',\n",
       "  'commodity': 'callaloo bush (roll)',\n",
       "  'date': datetime.datetime(2021, 4, 30, 0, 0),\n",
       "  'price': 5.0,\n",
       "  'unit': 'Bndl.',\n",
       "  'volume': 1790.0},\n",
       " {'category': 'LEAFY VEGETABLES',\n",
       "  'commodity': 'cauliflower(imported)',\n",
       "  'date': datetime.datetime(2021, 4, 30, 0, 0),\n",
       "  'price': 28.19,\n",
       "  'unit': 'Kg',\n",
       "  'volume': 204.0},\n",
       " {'category': 'LEAFY VEGETABLES',\n",
       "  'commodity': 'cauliflower (local)',\n",
       "  'date': datetime.datetime(2021, 4, 30, 0, 0),\n",
       "  'price': 17.64,\n",
       "  'unit': 'Kg',\n",
       "  'volume': 544.0},\n",
       " {'category': 'VEGETABLES',\n",
       "  'commodity': 'bodi bean',\n",
       "  'date': datetime.datetime(2021, 4, 30, 0, 0),\n",
       "  'price': 35.0,\n",
       "  'unit': '5lb Bndl.',\n",
       "  'volume': 570.0},\n",
       " {'category': 'VEGETABLES',\n",
       "  'commodity': 'seim bean',\n",
       "  'date': datetime.datetime(2021, 4, 30, 0, 0),\n",
       "  'price': 13.23,\n",
       "  'unit': 'Kg',\n",
       "  'volume': 367.0},\n",
       " {'category': 'VEGETABLES',\n",
       "  'commodity': 'pigeon pea',\n",
       "  'date': datetime.datetime(2021, 4, 30, 0, 0),\n",
       "  'price': 0.0,\n",
       "  'unit': 'Kg',\n",
       "  'volume': 0.0},\n",
       " {'category': 'VEGETABLES',\n",
       "  'commodity': 'cucumber',\n",
       "  'date': datetime.datetime(2021, 4, 30, 0, 0),\n",
       "  'price': 4.44,\n",
       "  'unit': 'Kg',\n",
       "  'volume': 16272.0},\n",
       " {'category': 'VEGETABLES',\n",
       "  'commodity': 'melongene (s)',\n",
       "  'date': datetime.datetime(2021, 4, 30, 0, 0),\n",
       "  'price': 6.61,\n",
       "  'unit': 'Kg',\n",
       "  'volume': 227.0},\n",
       " {'category': 'VEGETABLES',\n",
       "  'commodity': 'melongene (m)',\n",
       "  'date': datetime.datetime(2021, 4, 30, 0, 0),\n",
       "  'price': 11.02,\n",
       "  'unit': 'Kg',\n",
       "  'volume': 1297.0},\n",
       " {'category': 'VEGETABLES',\n",
       "  'commodity': 'melongene (l)',\n",
       "  'date': datetime.datetime(2021, 4, 30, 0, 0),\n",
       "  'price': 13.23,\n",
       "  'unit': 'Kg',\n",
       "  'volume': 1937.0},\n",
       " {'category': 'VEGETABLES',\n",
       "  'commodity': 'ochro',\n",
       "  'date': datetime.datetime(2021, 4, 30, 0, 0),\n",
       "  'price': 30.0,\n",
       "  'unit': \"100's\",\n",
       "  'volume': 410.0},\n",
       " {'category': 'VEGETABLES',\n",
       "  'commodity': 'plantain (green)',\n",
       "  'date': datetime.datetime(2021, 4, 30, 0, 0),\n",
       "  'price': 5.51,\n",
       "  'unit': 'Kg',\n",
       "  'volume': 1195.0},\n",
       " {'category': 'VEGETABLES',\n",
       "  'commodity': 'plantain (ripe)',\n",
       "  'date': datetime.datetime(2021, 4, 30, 0, 0),\n",
       "  'price': 5.51,\n",
       "  'unit': 'Kg',\n",
       "  'volume': 4082.0},\n",
       " {'category': 'VEGETABLES',\n",
       "  'commodity': 'pumpkin',\n",
       "  'date': datetime.datetime(2021, 4, 30, 0, 0),\n",
       "  'price': 2.2,\n",
       "  'unit': 'Kg',\n",
       "  'volume': 6345.0},\n",
       " {'category': 'VEGETABLES',\n",
       "  'commodity': 'sweet pepper (s)',\n",
       "  'date': datetime.datetime(2021, 4, 30, 0, 0),\n",
       "  'price': 8.82,\n",
       "  'unit': 'Kg',\n",
       "  'volume': 635.0},\n",
       " {'category': 'VEGETABLES',\n",
       "  'commodity': 'sweet pepper (m)',\n",
       "  'date': datetime.datetime(2021, 4, 30, 0, 0),\n",
       "  'price': 11.02,\n",
       "  'unit': 'Kg',\n",
       "  'volume': 1184.0},\n",
       " {'category': 'VEGETABLES',\n",
       "  'commodity': 'sweet pepper (l)',\n",
       "  'date': datetime.datetime(2021, 4, 30, 0, 0),\n",
       "  'price': 13.23,\n",
       "  'unit': 'Kg',\n",
       "  'volume': 1148.0},\n",
       " {'category': 'VEGETABLES',\n",
       "  'commodity': 'sweet pepper (imported)',\n",
       "  'date': datetime.datetime(2021, 4, 30, 0, 0),\n",
       "  'price': 0.0,\n",
       "  'unit': 'Kg',\n",
       "  'volume': 0.0},\n",
       " {'category': 'VEGETABLES',\n",
       "  'commodity': 'tomato (s)',\n",
       "  'date': datetime.datetime(2021, 4, 30, 0, 0),\n",
       "  'price': 11.02,\n",
       "  'unit': 'Kg',\n",
       "  'volume': 2858.0},\n",
       " {'category': 'VEGETABLES',\n",
       "  'commodity': 'tomato (m)',\n",
       "  'date': datetime.datetime(2021, 4, 30, 0, 0),\n",
       "  'price': 15.43,\n",
       "  'unit': 'Kg',\n",
       "  'volume': 3946.0},\n",
       " {'category': 'VEGETABLES',\n",
       "  'commodity': 'tomato (l)',\n",
       "  'date': datetime.datetime(2021, 4, 30, 0, 0),\n",
       "  'price': 17.64,\n",
       "  'unit': 'Kg',\n",
       "  'volume': 2722.0},\n",
       " {'category': 'VEGETABLES',\n",
       "  'commodity': 'tomato (imported)',\n",
       "  'date': datetime.datetime(2021, 4, 30, 0, 0),\n",
       "  'price': 0.0,\n",
       "  'unit': 'Kg',\n",
       "  'volume': 0.0},\n",
       " {'category': 'VEGETABLES',\n",
       "  'commodity': 'caraillie (s)',\n",
       "  'date': datetime.datetime(2021, 4, 30, 0, 0),\n",
       "  'price': 0.0,\n",
       "  'unit': 'Kg',\n",
       "  'volume': 0.0},\n",
       " {'category': 'VEGETABLES',\n",
       "  'commodity': 'caraillie (m)',\n",
       "  'date': datetime.datetime(2021, 4, 30, 0, 0),\n",
       "  'price': 6.61,\n",
       "  'unit': 'Kg',\n",
       "  'volume': 340.0},\n",
       " {'category': 'VEGETABLES',\n",
       "  'commodity': 'caraillie (l)',\n",
       "  'date': datetime.datetime(2021, 4, 30, 0, 0),\n",
       "  'price': 8.82,\n",
       "  'unit': 'Kg',\n",
       "  'volume': 662.0},\n",
       " {'category': 'VEGETABLES',\n",
       "  'commodity': 'squash',\n",
       "  'date': datetime.datetime(2021, 4, 30, 0, 0),\n",
       "  'price': 6.61,\n",
       "  'unit': 'Kg',\n",
       "  'volume': 454.0},\n",
       " {'category': 'VEGETABLES',\n",
       "  'commodity': 'christophene',\n",
       "  'date': datetime.datetime(2021, 4, 30, 0, 0),\n",
       "  'price': 4.41,\n",
       "  'unit': 'Kg',\n",
       "  'volume': 2223.0},\n",
       " {'category': 'FRUITS',\n",
       "  'commodity': 'coconut (dry) (l)',\n",
       "  'date': datetime.datetime(2021, 4, 30, 0, 0),\n",
       "  'price': 800.0,\n",
       "  'unit': \"100's\",\n",
       "  'volume': 5.0},\n",
       " {'category': 'FRUITS',\n",
       "  'commodity': 'coconut (dry) (m)',\n",
       "  'date': datetime.datetime(2021, 4, 30, 0, 0),\n",
       "  'price': 0.0,\n",
       "  'unit': \"100's\",\n",
       "  'volume': 0.0},\n",
       " {'category': 'FRUITS',\n",
       "  'commodity': 'coconut (dry) (s)',\n",
       "  'date': datetime.datetime(2021, 4, 30, 0, 0),\n",
       "  'price': 0.0,\n",
       "  'unit': \"100's\",\n",
       "  'volume': 0.0},\n",
       " {'category': 'FRUITS',\n",
       "  'commodity': 'banana (ripe)',\n",
       "  'date': datetime.datetime(2021, 4, 30, 0, 0),\n",
       "  'price': 10.0,\n",
       "  'unit': 'Kg',\n",
       "  'volume': 4050.0},\n",
       " {'category': 'FRUITS',\n",
       "  'commodity': 'banana (green)',\n",
       "  'date': datetime.datetime(2021, 4, 30, 0, 0),\n",
       "  'price': 4.41,\n",
       "  'unit': 'Kg',\n",
       "  'volume': 363.0},\n",
       " {'category': 'FRUITS',\n",
       "  'commodity': 'banana (gr.michel)',\n",
       "  'date': datetime.datetime(2021, 4, 30, 0, 0),\n",
       "  'price': 0.0,\n",
       "  'unit': 'Kg',\n",
       "  'volume': 0.0},\n",
       " {'category': 'FRUITS',\n",
       "  'commodity': 'paw paw',\n",
       "  'date': datetime.datetime(2021, 4, 30, 0, 0),\n",
       "  'price': 8.82,\n",
       "  'unit': 'Kg',\n",
       "  'volume': 2064.0},\n",
       " {'category': 'FRUITS',\n",
       "  'commodity': 'pineapple',\n",
       "  'date': datetime.datetime(2021, 4, 30, 0, 0),\n",
       "  'price': 7.72,\n",
       "  'unit': 'Kg',\n",
       "  'volume': 5851.0},\n",
       " {'category': 'FRUITS',\n",
       "  'commodity': 'watermelon',\n",
       "  'date': datetime.datetime(2021, 4, 30, 0, 0),\n",
       "  'price': 7.72,\n",
       "  'unit': 'Kg',\n",
       "  'volume': 6895.0},\n",
       " {'category': 'FRUITS',\n",
       "  'commodity': 'sorrel',\n",
       "  'date': datetime.datetime(2021, 4, 30, 0, 0),\n",
       "  'price': 0.0,\n",
       "  'unit': 'Kg',\n",
       "  'volume': 0.0},\n",
       " {'category': 'CITRUS',\n",
       "  'commodity': 'lime (s)',\n",
       "  'date': datetime.datetime(2021, 4, 30, 0, 0),\n",
       "  'price': 0.0,\n",
       "  'unit': \"100's\",\n",
       "  'volume': 0.0},\n",
       " {'category': 'CITRUS',\n",
       "  'commodity': 'lime (m)',\n",
       "  'date': datetime.datetime(2021, 4, 30, 0, 0),\n",
       "  'price': 150.0,\n",
       "  'unit': \"100's\",\n",
       "  'volume': 40.0},\n",
       " {'category': 'CITRUS',\n",
       "  'commodity': 'lime (l)',\n",
       "  'date': datetime.datetime(2021, 4, 30, 0, 0),\n",
       "  'price': 200.0,\n",
       "  'unit': \"100's\",\n",
       "  'volume': 100.0},\n",
       " {'category': 'CITRUS',\n",
       "  'commodity': 'grapefruit',\n",
       "  'date': datetime.datetime(2021, 4, 30, 0, 0),\n",
       "  'price': 250.0,\n",
       "  'unit': \"100's\",\n",
       "  'volume': 11.0},\n",
       " {'category': 'CITRUS',\n",
       "  'commodity': 'orange (s)',\n",
       "  'date': datetime.datetime(2021, 4, 30, 0, 0),\n",
       "  'price': 70.0,\n",
       "  'unit': \"100's\",\n",
       "  'volume': 18.0},\n",
       " {'category': 'CITRUS',\n",
       "  'commodity': 'orange (m)',\n",
       "  'date': datetime.datetime(2021, 4, 30, 0, 0),\n",
       "  'price': 80.0,\n",
       "  'unit': \"100's\",\n",
       "  'volume': 32.0},\n",
       " {'category': 'CITRUS',\n",
       "  'commodity': 'orange (l)',\n",
       "  'date': datetime.datetime(2021, 4, 30, 0, 0),\n",
       "  'price': 100.0,\n",
       "  'unit': \"100's\",\n",
       "  'volume': 96.0},\n",
       " {'category': 'CITRUS',\n",
       "  'commodity': 'orange (navel)',\n",
       "  'date': datetime.datetime(2021, 4, 30, 0, 0),\n",
       "  'price': 0.0,\n",
       "  'unit': \"100's\",\n",
       "  'volume': 0.0},\n",
       " {'category': 'CITRUS',\n",
       "  'commodity': 'orange (king)',\n",
       "  'date': datetime.datetime(2021, 4, 30, 0, 0),\n",
       "  'price': 200.0,\n",
       "  'unit': \"100's\",\n",
       "  'volume': 3.0},\n",
       " {'category': 'CITRUS',\n",
       "  'commodity': 'portugal',\n",
       "  'date': datetime.datetime(2021, 4, 30, 0, 0),\n",
       "  'price': 0.0,\n",
       "  'unit': \"100's\",\n",
       "  'volume': 0.0}]"
      ]
     },
     "execution_count": 14,
     "metadata": {},
     "output_type": "execute_result"
    }
   ],
   "source": [
    "crops['daily']"
   ]
  },
  {
   "cell_type": "code",
   "execution_count": 15,
   "metadata": {},
   "outputs": [
    {
     "data": {
      "text/plain": [
       "[{'average_price': 0.0,\n",
       "  'commodity': 'ancho',\n",
       "  'date': datetime.datetime(2021, 4, 29, 0, 0),\n",
       "  'frequent_price': 0.0,\n",
       "  'market': 'POSWFM',\n",
       "  'max_price': 0.0,\n",
       "  'min_price': 0.0,\n",
       "  'unit': 'kg',\n",
       "  'volume': 0.0},\n",
       " {'average_price': 33.07,\n",
       "  'commodity': 'bachin',\n",
       "  'date': datetime.datetime(2021, 4, 29, 0, 0),\n",
       "  'frequent_price': 33.07,\n",
       "  'market': 'POSWFM',\n",
       "  'max_price': 33.07,\n",
       "  'min_price': 33.07,\n",
       "  'unit': 'kg',\n",
       "  'volume': 11.79},\n",
       " {'average_price': 0.0,\n",
       "  'commodity': 'bannan',\n",
       "  'date': datetime.datetime(2021, 4, 29, 0, 0),\n",
       "  'frequent_price': 0.0,\n",
       "  'market': 'POSWFM',\n",
       "  'max_price': 0.0,\n",
       "  'min_price': 0.0,\n",
       "  'unit': 'kg',\n",
       "  'volume': 0.0},\n",
       " {'average_price': 0.0,\n",
       "  'commodity': 'barracuda',\n",
       "  'date': datetime.datetime(2021, 4, 29, 0, 0),\n",
       "  'frequent_price': 0.0,\n",
       "  'market': 'POSWFM',\n",
       "  'max_price': 0.0,\n",
       "  'min_price': 0.0,\n",
       "  'unit': 'kg',\n",
       "  'volume': 0.0},\n",
       " {'average_price': 0.0,\n",
       "  'commodity': 'blanche',\n",
       "  'date': datetime.datetime(2021, 4, 29, 0, 0),\n",
       "  'frequent_price': 0.0,\n",
       "  'market': 'POSWFM',\n",
       "  'max_price': 0.0,\n",
       "  'min_price': 0.0,\n",
       "  'unit': 'kg',\n",
       "  'volume': 0.0},\n",
       " {'average_price': 17.64,\n",
       "  'commodity': 'blue marlin',\n",
       "  'date': datetime.datetime(2021, 4, 29, 0, 0),\n",
       "  'frequent_price': 17.64,\n",
       "  'market': 'POSWFM',\n",
       "  'max_price': 17.64,\n",
       "  'min_price': 17.64,\n",
       "  'unit': 'kg',\n",
       "  'volume': 95.26},\n",
       " {'average_price': 2.2,\n",
       "  'commodity': 'bonito',\n",
       "  'date': datetime.datetime(2021, 4, 29, 0, 0),\n",
       "  'frequent_price': 2.2,\n",
       "  'market': 'POSWFM',\n",
       "  'max_price': 2.2,\n",
       "  'min_price': 2.2,\n",
       "  'unit': 'kg',\n",
       "  'volume': 68.95},\n",
       " {'average_price': 22.05,\n",
       "  'commodity': 'brochet',\n",
       "  'date': datetime.datetime(2021, 4, 29, 0, 0),\n",
       "  'frequent_price': 22.05,\n",
       "  'market': 'POSWFM',\n",
       "  'max_price': 22.05,\n",
       "  'min_price': 22.05,\n",
       "  'unit': 'kg',\n",
       "  'volume': 15.42},\n",
       " {'average_price': 0.0,\n",
       "  'commodity': 'butterfish',\n",
       "  'date': datetime.datetime(2021, 4, 29, 0, 0),\n",
       "  'frequent_price': 0.0,\n",
       "  'market': 'POSWFM',\n",
       "  'max_price': 0.0,\n",
       "  'min_price': 0.0,\n",
       "  'unit': 'kg',\n",
       "  'volume': 0.0},\n",
       " {'average_price': 50.71,\n",
       "  'commodity': 'carite',\n",
       "  'date': datetime.datetime(2021, 4, 29, 0, 0),\n",
       "  'frequent_price': 50.71,\n",
       "  'market': 'POSWFM',\n",
       "  'max_price': 50.71,\n",
       "  'min_price': 50.71,\n",
       "  'unit': 'kg',\n",
       "  'volume': 154.68},\n",
       " {'average_price': 0.0,\n",
       "  'commodity': 'cascadura',\n",
       "  'date': datetime.datetime(2021, 4, 29, 0, 0),\n",
       "  'frequent_price': 0.0,\n",
       "  'market': 'POSWFM',\n",
       "  'max_price': 0.0,\n",
       "  'min_price': 0.0,\n",
       "  'unit': 'kg',\n",
       "  'volume': 0.0},\n",
       " {'average_price': 6.61,\n",
       "  'commodity': 'catfish',\n",
       "  'date': datetime.datetime(2021, 4, 29, 0, 0),\n",
       "  'frequent_price': 6.61,\n",
       "  'market': 'POSWFM',\n",
       "  'max_price': 6.61,\n",
       "  'min_price': 6.61,\n",
       "  'unit': 'kg',\n",
       "  'volume': 19.96},\n",
       " {'average_price': 19.85,\n",
       "  'commodity': 'cavali',\n",
       "  'date': datetime.datetime(2021, 4, 29, 0, 0),\n",
       "  'frequent_price': 19.85,\n",
       "  'market': 'POSWFM',\n",
       "  'max_price': 22.05,\n",
       "  'min_price': 17.64,\n",
       "  'unit': 'kg',\n",
       "  'volume': 254.01},\n",
       " {'average_price': 0.0,\n",
       "  'commodity': 'cod fish',\n",
       "  'date': datetime.datetime(2021, 4, 29, 0, 0),\n",
       "  'frequent_price': 0.0,\n",
       "  'market': 'POSWFM',\n",
       "  'max_price': 0.0,\n",
       "  'min_price': 0.0,\n",
       "  'unit': 'kg',\n",
       "  'volume': 0.0},\n",
       " {'average_price': 16.54,\n",
       "  'commodity': 'crocro',\n",
       "  'date': datetime.datetime(2021, 4, 29, 0, 0),\n",
       "  'frequent_price': 16.54,\n",
       "  'market': 'POSWFM',\n",
       "  'max_price': 17.64,\n",
       "  'min_price': 15.43,\n",
       "  'unit': 'kg',\n",
       "  'volume': 1201.58},\n",
       " {'average_price': 0.0,\n",
       "  'commodity': 'cutlass fish',\n",
       "  'date': datetime.datetime(2021, 4, 29, 0, 0),\n",
       "  'frequent_price': 0.0,\n",
       "  'market': 'POSWFM',\n",
       "  'max_price': 0.0,\n",
       "  'min_price': 0.0,\n",
       "  'unit': 'kg',\n",
       "  'volume': 0.0},\n",
       " {'average_price': 26.46,\n",
       "  'commodity': 'dolphin',\n",
       "  'date': datetime.datetime(2021, 4, 29, 0, 0),\n",
       "  'frequent_price': 26.46,\n",
       "  'market': 'POSWFM',\n",
       "  'max_price': 26.46,\n",
       "  'min_price': 26.46,\n",
       "  'unit': 'kg',\n",
       "  'volume': 17.24},\n",
       " {'average_price': 0.0,\n",
       "  'commodity': 'gar fish',\n",
       "  'date': datetime.datetime(2021, 4, 29, 0, 0),\n",
       "  'frequent_price': 0.0,\n",
       "  'market': 'POSWFM',\n",
       "  'max_price': 0.0,\n",
       "  'min_price': 0.0,\n",
       "  'unit': 'kg',\n",
       "  'volume': 0.0},\n",
       " {'average_price': 0.0,\n",
       "  'commodity': 'grouper',\n",
       "  'date': datetime.datetime(2021, 4, 29, 0, 0),\n",
       "  'frequent_price': 0.0,\n",
       "  'market': 'POSWFM',\n",
       "  'max_price': 0.0,\n",
       "  'min_price': 0.0,\n",
       "  'unit': 'kg',\n",
       "  'volume': 0.0},\n",
       " {'average_price': 0.0,\n",
       "  'commodity': 'grunt',\n",
       "  'date': datetime.datetime(2021, 4, 29, 0, 0),\n",
       "  'frequent_price': 0.0,\n",
       "  'market': 'POSWFM',\n",
       "  'max_price': 0.0,\n",
       "  'min_price': 0.0,\n",
       "  'unit': 'kg',\n",
       "  'volume': 0.0},\n",
       " {'average_price': 0.0,\n",
       "  'commodity': 'herring',\n",
       "  'date': datetime.datetime(2021, 4, 29, 0, 0),\n",
       "  'frequent_price': 0.0,\n",
       "  'market': 'POSWFM',\n",
       "  'max_price': 0.0,\n",
       "  'min_price': 0.0,\n",
       "  'unit': 'kg',\n",
       "  'volume': 0.0},\n",
       " {'average_price': 8.82,\n",
       "  'commodity': 'jack',\n",
       "  'date': datetime.datetime(2021, 4, 29, 0, 0),\n",
       "  'frequent_price': 8.82,\n",
       "  'market': 'POSWFM',\n",
       "  'max_price': 8.82,\n",
       "  'min_price': 8.82,\n",
       "  'unit': 'kg',\n",
       "  'volume': 25.86},\n",
       " {'average_price': 0.0,\n",
       "  'commodity': 'joshua',\n",
       "  'date': datetime.datetime(2021, 4, 29, 0, 0),\n",
       "  'frequent_price': 0.0,\n",
       "  'market': 'POSWFM',\n",
       "  'max_price': 0.0,\n",
       "  'min_price': 0.0,\n",
       "  'unit': 'kg',\n",
       "  'volume': 0.0},\n",
       " {'average_price': 52.91,\n",
       "  'commodity': 'king fish',\n",
       "  'date': datetime.datetime(2021, 4, 29, 0, 0),\n",
       "  'frequent_price': 52.91,\n",
       "  'market': 'POSWFM',\n",
       "  'max_price': 52.91,\n",
       "  'min_price': 52.91,\n",
       "  'unit': 'kg',\n",
       "  'volume': 701.71},\n",
       " {'average_price': 0.0,\n",
       "  'commodity': 'lobster',\n",
       "  'date': datetime.datetime(2021, 4, 29, 0, 0),\n",
       "  'frequent_price': 0.0,\n",
       "  'market': 'POSWFM',\n",
       "  'max_price': 0.0,\n",
       "  'min_price': 0.0,\n",
       "  'unit': 'kg',\n",
       "  'volume': 0.0},\n",
       " {'average_price': 0.0,\n",
       "  'commodity': 'macreo',\n",
       "  'date': datetime.datetime(2021, 4, 29, 0, 0),\n",
       "  'frequent_price': 0.0,\n",
       "  'market': 'POSWFM',\n",
       "  'max_price': 0.0,\n",
       "  'min_price': 0.0,\n",
       "  'unit': 'kg',\n",
       "  'volume': 0.0},\n",
       " {'average_price': 11.02,\n",
       "  'commodity': 'mixed fish',\n",
       "  'date': datetime.datetime(2021, 4, 29, 0, 0),\n",
       "  'frequent_price': 11.02,\n",
       "  'market': 'POSWFM',\n",
       "  'max_price': 11.02,\n",
       "  'min_price': 11.02,\n",
       "  'unit': 'kg',\n",
       "  'volume': 83.46},\n",
       " {'average_price': 11.02,\n",
       "  'commodity': 'moonshine',\n",
       "  'date': datetime.datetime(2021, 4, 29, 0, 0),\n",
       "  'frequent_price': 11.02,\n",
       "  'market': 'POSWFM',\n",
       "  'max_price': 11.02,\n",
       "  'min_price': 11.02,\n",
       "  'unit': 'kg',\n",
       "  'volume': 74.84},\n",
       " {'average_price': 0.0,\n",
       "  'commodity': 'mullet',\n",
       "  'date': datetime.datetime(2021, 4, 29, 0, 0),\n",
       "  'frequent_price': 0.0,\n",
       "  'market': 'POSWFM',\n",
       "  'max_price': 0.0,\n",
       "  'min_price': 0.0,\n",
       "  'unit': 'kg',\n",
       "  'volume': 0.0},\n",
       " {'average_price': 0.0,\n",
       "  'commodity': 'other fish',\n",
       "  'date': datetime.datetime(2021, 4, 29, 0, 0),\n",
       "  'frequent_price': 0.0,\n",
       "  'market': 'POSWFM',\n",
       "  'max_price': 0.0,\n",
       "  'min_price': 0.0,\n",
       "  'unit': 'kg',\n",
       "  'volume': 0.0},\n",
       " {'average_price': 0.0,\n",
       "  'commodity': 'paliment',\n",
       "  'date': datetime.datetime(2021, 4, 29, 0, 0),\n",
       "  'frequent_price': 0.0,\n",
       "  'market': 'POSWFM',\n",
       "  'max_price': 0.0,\n",
       "  'min_price': 0.0,\n",
       "  'unit': 'kg',\n",
       "  'volume': 0.0},\n",
       " {'average_price': 0.0,\n",
       "  'commodity': 'pampano',\n",
       "  'date': datetime.datetime(2021, 4, 29, 0, 0),\n",
       "  'frequent_price': 0.0,\n",
       "  'market': 'POSWFM',\n",
       "  'max_price': 0.0,\n",
       "  'min_price': 0.0,\n",
       "  'unit': 'kg',\n",
       "  'volume': 0.0},\n",
       " {'average_price': 0.0,\n",
       "  'commodity': 'paoua',\n",
       "  'date': datetime.datetime(2021, 4, 29, 0, 0),\n",
       "  'frequent_price': 0.0,\n",
       "  'market': 'POSWFM',\n",
       "  'max_price': 0.0,\n",
       "  'min_price': 0.0,\n",
       "  'unit': 'kg',\n",
       "  'volume': 0.0},\n",
       " {'average_price': 0.0,\n",
       "  'commodity': 'plateau',\n",
       "  'date': datetime.datetime(2021, 4, 29, 0, 0),\n",
       "  'frequent_price': 0.0,\n",
       "  'market': 'POSWFM',\n",
       "  'max_price': 0.0,\n",
       "  'min_price': 0.0,\n",
       "  'unit': 'kg',\n",
       "  'volume': 0.0},\n",
       " {'average_price': 0.0,\n",
       "  'commodity': 'raccando ',\n",
       "  'date': datetime.datetime(2021, 4, 29, 0, 0),\n",
       "  'frequent_price': 0.0,\n",
       "  'market': 'POSWFM',\n",
       "  'max_price': 0.0,\n",
       "  'min_price': 0.0,\n",
       "  'unit': 'kg',\n",
       "  'volume': 0.0},\n",
       " {'average_price': 44.09,\n",
       "  'commodity': 'red fish',\n",
       "  'date': datetime.datetime(2021, 4, 29, 0, 0),\n",
       "  'frequent_price': 44.09,\n",
       "  'market': 'POSWFM',\n",
       "  'max_price': 44.09,\n",
       "  'min_price': 44.09,\n",
       "  'unit': 'kg',\n",
       "  'volume': 92.53},\n",
       " {'average_price': 44.09,\n",
       "  'commodity': 'salmon',\n",
       "  'date': datetime.datetime(2021, 4, 29, 0, 0),\n",
       "  'frequent_price': 44.09,\n",
       "  'market': 'POSWFM',\n",
       "  'max_price': 44.09,\n",
       "  'min_price': 44.09,\n",
       "  'unit': 'kg',\n",
       "  'volume': 263.54},\n",
       " {'average_price': 0.0,\n",
       "  'commodity': 'sapata',\n",
       "  'date': datetime.datetime(2021, 4, 29, 0, 0),\n",
       "  'frequent_price': 0.0,\n",
       "  'market': 'POSWFM',\n",
       "  'max_price': 0.0,\n",
       "  'min_price': 0.0,\n",
       "  'unit': 'kg',\n",
       "  'volume': 0.0},\n",
       " {'average_price': 0.0,\n",
       "  'commodity': 'sardine',\n",
       "  'date': datetime.datetime(2021, 4, 29, 0, 0),\n",
       "  'frequent_price': 0.0,\n",
       "  'market': 'POSWFM',\n",
       "  'max_price': 0.0,\n",
       "  'min_price': 0.0,\n",
       "  'unit': 'kg',\n",
       "  'volume': 0.0},\n",
       " {'average_price': 0.0,\n",
       "  'commodity': 'sardine',\n",
       "  'date': datetime.datetime(2021, 4, 29, 0, 0),\n",
       "  'frequent_price': 0.0,\n",
       "  'market': 'POSWFM',\n",
       "  'max_price': 0.0,\n",
       "  'min_price': 0.0,\n",
       "  'unit': 'kg',\n",
       "  'volume': 0.0},\n",
       " {'average_price': 0.0,\n",
       "  'commodity': 'sea crab',\n",
       "  'date': datetime.datetime(2021, 4, 29, 0, 0),\n",
       "  'frequent_price': 0.0,\n",
       "  'market': 'POSWFM',\n",
       "  'max_price': 0.0,\n",
       "  'min_price': 0.0,\n",
       "  'unit': 'kg',\n",
       "  'volume': 0.0},\n",
       " {'average_price': 22.05,\n",
       "  'commodity': 'shark',\n",
       "  'date': datetime.datetime(2021, 4, 29, 0, 0),\n",
       "  'frequent_price': 22.05,\n",
       "  'market': 'POSWFM',\n",
       "  'max_price': 26.46,\n",
       "  'min_price': 17.64,\n",
       "  'unit': 'kg',\n",
       "  'volume': 517.55},\n",
       " {'average_price': 0.0,\n",
       "  'commodity': 'shrimp (l)',\n",
       "  'date': datetime.datetime(2021, 4, 29, 0, 0),\n",
       "  'frequent_price': 0.0,\n",
       "  'market': 'POSWFM',\n",
       "  'max_price': 0.0,\n",
       "  'min_price': 0.0,\n",
       "  'unit': 'kg',\n",
       "  'volume': 0.0},\n",
       " {'average_price': 66.14,\n",
       "  'commodity': 'shrimp (m)',\n",
       "  'date': datetime.datetime(2021, 4, 29, 0, 0),\n",
       "  'frequent_price': 66.14,\n",
       "  'market': 'POSWFM',\n",
       "  'max_price': 66.14,\n",
       "  'min_price': 66.14,\n",
       "  'unit': 'kg',\n",
       "  'volume': 151.5},\n",
       " {'average_price': 0.0,\n",
       "  'commodity': 'shrimp (s)',\n",
       "  'date': datetime.datetime(2021, 4, 29, 0, 0),\n",
       "  'frequent_price': 0.0,\n",
       "  'market': 'POSWFM',\n",
       "  'max_price': 0.0,\n",
       "  'min_price': 0.0,\n",
       "  'unit': 'kg',\n",
       "  'volume': 0.0},\n",
       " {'average_price': 0.0,\n",
       "  'commodity': 'tarpon',\n",
       "  'date': datetime.datetime(2021, 4, 29, 0, 0),\n",
       "  'frequent_price': 0.0,\n",
       "  'market': 'POSWFM',\n",
       "  'max_price': 0.0,\n",
       "  'min_price': 0.0,\n",
       "  'unit': 'kg',\n",
       "  'volume': 0.0},\n",
       " {'average_price': 13.23,\n",
       "  'commodity': 'tuna',\n",
       "  'date': datetime.datetime(2021, 4, 29, 0, 0),\n",
       "  'frequent_price': 13.23,\n",
       "  'market': 'POSWFM',\n",
       "  'max_price': 15.43,\n",
       "  'min_price': 11.02,\n",
       "  'unit': 'kg',\n",
       "  'volume': 281.23},\n",
       " {'average_price': 6.61,\n",
       "  'commodity': 'white fish',\n",
       "  'date': datetime.datetime(2021, 4, 29, 0, 0),\n",
       "  'frequent_price': 6.61,\n",
       "  'market': 'POSWFM',\n",
       "  'max_price': 6.61,\n",
       "  'min_price': 6.61,\n",
       "  'unit': 'kg',\n",
       "  'volume': 113.4},\n",
       " {'average_price': 0.0,\n",
       "  'commodity': 'tilapia',\n",
       "  'date': datetime.datetime(2021, 4, 29, 0, 0),\n",
       "  'frequent_price': 0.0,\n",
       "  'market': 'POSWFM',\n",
       "  'max_price': 0.0,\n",
       "  'min_price': 0.0,\n",
       "  'unit': 'kg',\n",
       "  'volume': 0.0},\n",
       " {'average_price': 0.0,\n",
       "  'commodity': 'ancho',\n",
       "  'date': datetime.datetime(2021, 4, 30, 0, 0),\n",
       "  'frequent_price': 0.0,\n",
       "  'market': 'OVWFM',\n",
       "  'max_price': 0.0,\n",
       "  'min_price': 0.0,\n",
       "  'unit': 'kg',\n",
       "  'volume': 0.0},\n",
       " {'average_price': 0.0,\n",
       "  'commodity': 'bachin',\n",
       "  'date': datetime.datetime(2021, 4, 30, 0, 0),\n",
       "  'frequent_price': 0.0,\n",
       "  'market': 'OVWFM',\n",
       "  'max_price': 0.0,\n",
       "  'min_price': 0.0,\n",
       "  'unit': 'kg',\n",
       "  'volume': 0.0},\n",
       " {'average_price': 0.0,\n",
       "  'commodity': 'bannan',\n",
       "  'date': datetime.datetime(2021, 4, 30, 0, 0),\n",
       "  'frequent_price': 0.0,\n",
       "  'market': 'OVWFM',\n",
       "  'max_price': 0.0,\n",
       "  'min_price': 0.0,\n",
       "  'unit': 'kg',\n",
       "  'volume': 0.0},\n",
       " {'average_price': 0.0,\n",
       "  'commodity': 'barracuda',\n",
       "  'date': datetime.datetime(2021, 4, 30, 0, 0),\n",
       "  'frequent_price': 0.0,\n",
       "  'market': 'OVWFM',\n",
       "  'max_price': 0.0,\n",
       "  'min_price': 0.0,\n",
       "  'unit': 'kg',\n",
       "  'volume': 0.0},\n",
       " {'average_price': 0.0,\n",
       "  'commodity': 'blanche',\n",
       "  'date': datetime.datetime(2021, 4, 30, 0, 0),\n",
       "  'frequent_price': 0.0,\n",
       "  'market': 'OVWFM',\n",
       "  'max_price': 0.0,\n",
       "  'min_price': 0.0,\n",
       "  'unit': 'kg',\n",
       "  'volume': 0.0},\n",
       " {'average_price': 0.0,\n",
       "  'commodity': 'blue marlin',\n",
       "  'date': datetime.datetime(2021, 4, 30, 0, 0),\n",
       "  'frequent_price': 0.0,\n",
       "  'market': 'OVWFM',\n",
       "  'max_price': 0.0,\n",
       "  'min_price': 0.0,\n",
       "  'unit': 'kg',\n",
       "  'volume': 0.0},\n",
       " {'average_price': 0.0,\n",
       "  'commodity': 'bonito',\n",
       "  'date': datetime.datetime(2021, 4, 30, 0, 0),\n",
       "  'frequent_price': 0.0,\n",
       "  'market': 'OVWFM',\n",
       "  'max_price': 0.0,\n",
       "  'min_price': 0.0,\n",
       "  'unit': 'kg',\n",
       "  'volume': 0.0},\n",
       " {'average_price': 28.66,\n",
       "  'commodity': 'brochet',\n",
       "  'date': datetime.datetime(2021, 4, 30, 0, 0),\n",
       "  'frequent_price': 28.66,\n",
       "  'market': 'OVWFM',\n",
       "  'max_price': 35.27,\n",
       "  'min_price': 22.05,\n",
       "  'unit': 'kg',\n",
       "  'volume': 181.44},\n",
       " {'average_price': 0.0,\n",
       "  'commodity': 'butterfish',\n",
       "  'date': datetime.datetime(2021, 4, 30, 0, 0),\n",
       "  'frequent_price': 0.0,\n",
       "  'market': 'OVWFM',\n",
       "  'max_price': 0.0,\n",
       "  'min_price': 0.0,\n",
       "  'unit': 'kg',\n",
       "  'volume': 0.0},\n",
       " {'average_price': 0.0,\n",
       "  'commodity': 'carite',\n",
       "  'date': datetime.datetime(2021, 4, 30, 0, 0),\n",
       "  'frequent_price': 0.0,\n",
       "  'market': 'OVWFM',\n",
       "  'max_price': 0.0,\n",
       "  'min_price': 0.0,\n",
       "  'unit': 'kg',\n",
       "  'volume': 0.0},\n",
       " {'average_price': 26.46,\n",
       "  'commodity': 'cascadura',\n",
       "  'date': datetime.datetime(2021, 4, 30, 0, 0),\n",
       "  'frequent_price': 26.46,\n",
       "  'market': 'OVWFM',\n",
       "  'max_price': 26.46,\n",
       "  'min_price': 26.46,\n",
       "  'unit': 'kg',\n",
       "  'volume': 249.48},\n",
       " {'average_price': 0.0,\n",
       "  'commodity': 'catfish',\n",
       "  'date': datetime.datetime(2021, 4, 30, 0, 0),\n",
       "  'frequent_price': 0.0,\n",
       "  'market': 'OVWFM',\n",
       "  'max_price': 0.0,\n",
       "  'min_price': 0.0,\n",
       "  'unit': 'kg',\n",
       "  'volume': 0.0},\n",
       " {'average_price': 22.05,\n",
       "  'commodity': 'cavali',\n",
       "  'date': datetime.datetime(2021, 4, 30, 0, 0),\n",
       "  'frequent_price': 22.05,\n",
       "  'market': 'OVWFM',\n",
       "  'max_price': 22.05,\n",
       "  'min_price': 22.05,\n",
       "  'unit': 'kg',\n",
       "  'volume': 45.36},\n",
       " {'average_price': 0.0,\n",
       "  'commodity': 'cod fish',\n",
       "  'date': datetime.datetime(2021, 4, 30, 0, 0),\n",
       "  'frequent_price': 0.0,\n",
       "  'market': 'OVWFM',\n",
       "  'max_price': 0.0,\n",
       "  'min_price': 0.0,\n",
       "  'unit': 'kg',\n",
       "  'volume': 0.0},\n",
       " {'average_price': 19.11,\n",
       "  'commodity': 'crocro',\n",
       "  'date': datetime.datetime(2021, 4, 30, 0, 0),\n",
       "  'frequent_price': 17.64,\n",
       "  'market': 'OVWFM',\n",
       "  'max_price': 22.05,\n",
       "  'min_price': 17.64,\n",
       "  'unit': 'kg',\n",
       "  'volume': 226.8},\n",
       " {'average_price': 0.0,\n",
       "  'commodity': 'cutlass fish',\n",
       "  'date': datetime.datetime(2021, 4, 30, 0, 0),\n",
       "  'frequent_price': 0.0,\n",
       "  'market': 'OVWFM',\n",
       "  'max_price': 0.0,\n",
       "  'min_price': 0.0,\n",
       "  'unit': 'kg',\n",
       "  'volume': 0.0},\n",
       " {'average_price': 0.0,\n",
       "  'commodity': 'dolphin',\n",
       "  'date': datetime.datetime(2021, 4, 30, 0, 0),\n",
       "  'frequent_price': 0.0,\n",
       "  'market': 'OVWFM',\n",
       "  'max_price': 0.0,\n",
       "  'min_price': 0.0,\n",
       "  'unit': 'kg',\n",
       "  'volume': 0.0},\n",
       " {'average_price': 0.0,\n",
       "  'commodity': 'gar fish',\n",
       "  'date': datetime.datetime(2021, 4, 30, 0, 0),\n",
       "  'frequent_price': 0.0,\n",
       "  'market': 'OVWFM',\n",
       "  'max_price': 0.0,\n",
       "  'min_price': 0.0,\n",
       "  'unit': 'kg',\n",
       "  'volume': 0.0},\n",
       " {'average_price': 0.0,\n",
       "  'commodity': 'grouper',\n",
       "  'date': datetime.datetime(2021, 4, 30, 0, 0),\n",
       "  'frequent_price': 0.0,\n",
       "  'market': 'OVWFM',\n",
       "  'max_price': 0.0,\n",
       "  'min_price': 0.0,\n",
       "  'unit': 'kg',\n",
       "  'volume': 0.0},\n",
       " {'average_price': 0.0,\n",
       "  'commodity': 'grunt',\n",
       "  'date': datetime.datetime(2021, 4, 30, 0, 0),\n",
       "  'frequent_price': 0.0,\n",
       "  'market': 'OVWFM',\n",
       "  'max_price': 0.0,\n",
       "  'min_price': 0.0,\n",
       "  'unit': 'kg',\n",
       "  'volume': 0.0},\n",
       " {'average_price': 0.0,\n",
       "  'commodity': 'herring',\n",
       "  'date': datetime.datetime(2021, 4, 30, 0, 0),\n",
       "  'frequent_price': 0.0,\n",
       "  'market': 'OVWFM',\n",
       "  'max_price': 0.0,\n",
       "  'min_price': 0.0,\n",
       "  'unit': 'kg',\n",
       "  'volume': 0.0},\n",
       " {'average_price': 0.0,\n",
       "  'commodity': 'jack',\n",
       "  'date': datetime.datetime(2021, 4, 30, 0, 0),\n",
       "  'frequent_price': 0.0,\n",
       "  'market': 'OVWFM',\n",
       "  'max_price': 0.0,\n",
       "  'min_price': 0.0,\n",
       "  'unit': 'kg',\n",
       "  'volume': 0.0},\n",
       " {'average_price': 0.0,\n",
       "  'commodity': 'joshua',\n",
       "  'date': datetime.datetime(2021, 4, 30, 0, 0),\n",
       "  'frequent_price': 0.0,\n",
       "  'market': 'OVWFM',\n",
       "  'max_price': 0.0,\n",
       "  'min_price': 0.0,\n",
       "  'unit': 'kg',\n",
       "  'volume': 0.0},\n",
       " {'average_price': 48.5,\n",
       "  'commodity': 'king fish',\n",
       "  'date': datetime.datetime(2021, 4, 30, 0, 0),\n",
       "  'frequent_price': 48.5,\n",
       "  'market': 'OVWFM',\n",
       "  'max_price': 48.5,\n",
       "  'min_price': 48.5,\n",
       "  'unit': 'kg',\n",
       "  'volume': 340.2},\n",
       " {'average_price': 0.0,\n",
       "  'commodity': 'lobster',\n",
       "  'date': datetime.datetime(2021, 4, 30, 0, 0),\n",
       "  'frequent_price': 0.0,\n",
       "  'market': 'OVWFM',\n",
       "  'max_price': 0.0,\n",
       "  'min_price': 0.0,\n",
       "  'unit': 'kg',\n",
       "  'volume': 0.0},\n",
       " {'average_price': 0.0,\n",
       "  'commodity': 'macreo',\n",
       "  'date': datetime.datetime(2021, 4, 30, 0, 0),\n",
       "  'frequent_price': 0.0,\n",
       "  'market': 'OVWFM',\n",
       "  'max_price': 0.0,\n",
       "  'min_price': 0.0,\n",
       "  'unit': 'kg',\n",
       "  'volume': 0.0},\n",
       " {'average_price': 7.35,\n",
       "  'commodity': 'mixed fish',\n",
       "  'date': datetime.datetime(2021, 4, 30, 0, 0),\n",
       "  'frequent_price': 7.35,\n",
       "  'market': 'OVWFM',\n",
       "  'max_price': 11.02,\n",
       "  'min_price': 4.41,\n",
       "  'unit': 'kg',\n",
       "  'volume': 351.54},\n",
       " {'average_price': 15.43,\n",
       "  'commodity': 'moonshine',\n",
       "  'date': datetime.datetime(2021, 4, 30, 0, 0),\n",
       "  'frequent_price': 15.43,\n",
       "  'market': 'OVWFM',\n",
       "  'max_price': 15.43,\n",
       "  'min_price': 15.43,\n",
       "  'unit': 'kg',\n",
       "  'volume': 90.72},\n",
       " {'average_price': 0.0,\n",
       "  'commodity': 'mullet',\n",
       "  'date': datetime.datetime(2021, 4, 30, 0, 0),\n",
       "  'frequent_price': 0.0,\n",
       "  'market': 'OVWFM',\n",
       "  'max_price': 0.0,\n",
       "  'min_price': 0.0,\n",
       "  'unit': 'kg',\n",
       "  'volume': 0.0},\n",
       " {'average_price': 0.0,\n",
       "  'commodity': 'other fish',\n",
       "  'date': datetime.datetime(2021, 4, 30, 0, 0),\n",
       "  'frequent_price': 0.0,\n",
       "  'market': 'OVWFM',\n",
       "  'max_price': 0.0,\n",
       "  'min_price': 0.0,\n",
       "  'unit': 'kg',\n",
       "  'volume': 0.0},\n",
       " {'average_price': 0.0,\n",
       "  'commodity': 'paliment',\n",
       "  'date': datetime.datetime(2021, 4, 30, 0, 0),\n",
       "  'frequent_price': 0.0,\n",
       "  'market': 'OVWFM',\n",
       "  'max_price': 0.0,\n",
       "  'min_price': 0.0,\n",
       "  'unit': 'kg',\n",
       "  'volume': 0.0},\n",
       " {'average_price': 0.0,\n",
       "  'commodity': 'pampano',\n",
       "  'date': datetime.datetime(2021, 4, 30, 0, 0),\n",
       "  'frequent_price': 0.0,\n",
       "  'market': 'OVWFM',\n",
       "  'max_price': 0.0,\n",
       "  'min_price': 0.0,\n",
       "  'unit': 'kg',\n",
       "  'volume': 0.0},\n",
       " {'average_price': 0.0,\n",
       "  'commodity': 'paoua',\n",
       "  'date': datetime.datetime(2021, 4, 30, 0, 0),\n",
       "  'frequent_price': 0.0,\n",
       "  'market': 'OVWFM',\n",
       "  'max_price': 0.0,\n",
       "  'min_price': 0.0,\n",
       "  'unit': 'kg',\n",
       "  'volume': 0.0},\n",
       " {'average_price': 0.0,\n",
       "  'commodity': 'plateau',\n",
       "  'date': datetime.datetime(2021, 4, 30, 0, 0),\n",
       "  'frequent_price': 0.0,\n",
       "  'market': 'OVWFM',\n",
       "  'max_price': 0.0,\n",
       "  'min_price': 0.0,\n",
       "  'unit': 'kg',\n",
       "  'volume': 0.0},\n",
       " {'average_price': 0.0,\n",
       "  'commodity': 'raccando ',\n",
       "  'date': datetime.datetime(2021, 4, 30, 0, 0),\n",
       "  'frequent_price': 0.0,\n",
       "  'market': 'OVWFM',\n",
       "  'max_price': 0.0,\n",
       "  'min_price': 0.0,\n",
       "  'unit': 'kg',\n",
       "  'volume': 0.0},\n",
       " {'average_price': 49.61,\n",
       "  'commodity': 'red fish',\n",
       "  'date': datetime.datetime(2021, 4, 30, 0, 0),\n",
       "  'frequent_price': 49.61,\n",
       "  'market': 'OVWFM',\n",
       "  'max_price': 55.12,\n",
       "  'min_price': 44.09,\n",
       "  'unit': 'kg',\n",
       "  'volume': 113.4},\n",
       " {'average_price': 45.56,\n",
       "  'commodity': 'salmon',\n",
       "  'date': datetime.datetime(2021, 4, 30, 0, 0),\n",
       "  'frequent_price': 44.09,\n",
       "  'market': 'OVWFM',\n",
       "  'max_price': 48.5,\n",
       "  'min_price': 44.09,\n",
       "  'unit': 'kg',\n",
       "  'volume': 408.24},\n",
       " {'average_price': 0.0,\n",
       "  'commodity': 'sapata',\n",
       "  'date': datetime.datetime(2021, 4, 30, 0, 0),\n",
       "  'frequent_price': 0.0,\n",
       "  'market': 'OVWFM',\n",
       "  'max_price': 0.0,\n",
       "  'min_price': 0.0,\n",
       "  'unit': 'kg',\n",
       "  'volume': 0.0},\n",
       " {'average_price': 8.82,\n",
       "  'commodity': 'sardine',\n",
       "  'date': datetime.datetime(2021, 4, 30, 0, 0),\n",
       "  'frequent_price': 8.82,\n",
       "  'market': 'OVWFM',\n",
       "  'max_price': 8.82,\n",
       "  'min_price': 8.82,\n",
       "  'unit': 'kg',\n",
       "  'volume': 90.72},\n",
       " {'average_price': 0.0,\n",
       "  'commodity': 'sea crab',\n",
       "  'date': datetime.datetime(2021, 4, 30, 0, 0),\n",
       "  'frequent_price': 0.0,\n",
       "  'market': 'OVWFM',\n",
       "  'max_price': 0.0,\n",
       "  'min_price': 0.0,\n",
       "  'unit': 'kg',\n",
       "  'volume': 0.0},\n",
       " {'average_price': 22.05,\n",
       "  'commodity': 'shark',\n",
       "  'date': datetime.datetime(2021, 4, 30, 0, 0),\n",
       "  'frequent_price': 22.05,\n",
       "  'market': 'OVWFM',\n",
       "  'max_price': 22.05,\n",
       "  'min_price': 22.05,\n",
       "  'unit': 'kg',\n",
       "  'volume': 181.44},\n",
       " {'average_price': 66.69,\n",
       "  'commodity': 'shrimp (l)',\n",
       "  'date': datetime.datetime(2021, 4, 30, 0, 0),\n",
       "  'frequent_price': 59.52,\n",
       "  'market': 'OVWFM',\n",
       "  'max_price': 88.18,\n",
       "  'min_price': 59.52,\n",
       "  'unit': 'kg',\n",
       "  'volume': 172.37},\n",
       " {'average_price': 37.16,\n",
       "  'commodity': 'shrimp (m)',\n",
       "  'date': datetime.datetime(2021, 4, 30, 0, 0),\n",
       "  'frequent_price': 37.48,\n",
       "  'market': 'OVWFM',\n",
       "  'max_price': 41.89,\n",
       "  'min_price': 33.07,\n",
       "  'unit': 'kg',\n",
       "  'volume': 303.91},\n",
       " {'average_price': 22.05,\n",
       "  'commodity': 'shrimp (s)',\n",
       "  'date': datetime.datetime(2021, 4, 30, 0, 0),\n",
       "  'frequent_price': 22.05,\n",
       "  'market': 'OVWFM',\n",
       "  'max_price': 26.46,\n",
       "  'min_price': 17.64,\n",
       "  'unit': 'kg',\n",
       "  'volume': 31.75},\n",
       " {'average_price': 0.0,\n",
       "  'commodity': 'tarpon',\n",
       "  'date': datetime.datetime(2021, 4, 30, 0, 0),\n",
       "  'frequent_price': 0.0,\n",
       "  'market': 'OVWFM',\n",
       "  'max_price': 0.0,\n",
       "  'min_price': 0.0,\n",
       "  'unit': 'kg',\n",
       "  'volume': 0.0},\n",
       " {'average_price': 0.0,\n",
       "  'commodity': 'tuna',\n",
       "  'date': datetime.datetime(2021, 4, 30, 0, 0),\n",
       "  'frequent_price': 0.0,\n",
       "  'market': 'OVWFM',\n",
       "  'max_price': 0.0,\n",
       "  'min_price': 0.0,\n",
       "  'unit': 'kg',\n",
       "  'volume': 0.0},\n",
       " {'average_price': 0.0,\n",
       "  'commodity': 'white fish',\n",
       "  'date': datetime.datetime(2021, 4, 30, 0, 0),\n",
       "  'frequent_price': 0.0,\n",
       "  'market': 'OVWFM',\n",
       "  'max_price': 0.0,\n",
       "  'min_price': 0.0,\n",
       "  'unit': 'kg',\n",
       "  'volume': 0.0}]"
      ]
     },
     "execution_count": 15,
     "metadata": {},
     "output_type": "execute_result"
    }
   ],
   "source": [
    "results['fish']"
   ]
  },
  {
   "cell_type": "code",
   "execution_count": 16,
   "metadata": {},
   "outputs": [],
   "source": [
    "from agrinet import app"
   ]
  },
  {
   "cell_type": "code",
   "execution_count": 19,
   "metadata": {},
   "outputs": [],
   "source": [
    "client = app.test_client()"
   ]
  },
  {
   "cell_type": "code",
   "execution_count": 32,
   "metadata": {},
   "outputs": [
    {
     "name": "stdout",
     "output_type": "stream",
     "text": [
      "<type 'list'>\n"
     ]
    },
    {
     "data": {
      "text/plain": [
       "[u'ROOT CROPS',\n",
       " u'CONDIMENTS AND SPICES',\n",
       " u'LEAFY VEGETABLES',\n",
       " u'VEGETABLES',\n",
       " u'FRUITS',\n",
       " u'CITRUS']"
      ]
     },
     "execution_count": 32,
     "metadata": {},
     "output_type": "execute_result"
    }
   ],
   "source": [
    "res = client.get(\"/crops/daily/category\")\n",
    "res.get_json()"
   ]
  },
  {
   "cell_type": "code",
   "execution_count": 34,
   "metadata": {},
   "outputs": [
    {
     "data": {
      "text/plain": [
       "[u'2020-10-01T00:00:00',\n",
       " u'2020-10-02T00:00:00',\n",
       " u'2020-10-05T00:00:00',\n",
       " u'2020-10-06T00:00:00',\n",
       " u'2020-10-07T00:00:00',\n",
       " u'2020-10-08T00:00:00',\n",
       " u'2020-10-09T00:00:00',\n",
       " u'2020-10-12T00:00:00',\n",
       " u'2020-10-14T00:00:00',\n",
       " u'2020-10-15T00:00:00',\n",
       " u'2020-10-16T00:00:00',\n",
       " u'2020-10-19T00:00:00',\n",
       " u'2020-10-20T00:00:00',\n",
       " u'2020-10-21T00:00:00',\n",
       " u'2020-10-23T00:00:00',\n",
       " u'2020-10-26T00:00:00',\n",
       " u'2020-10-27T00:00:00',\n",
       " u'2020-10-28T00:00:00',\n",
       " u'2020-10-29T00:00:00',\n",
       " u'2020-10-30T00:00:00',\n",
       " u'2020-11-20T00:00:00',\n",
       " u'2021-04-28T00:00:00',\n",
       " u'2021-04-30T00:00:00']"
      ]
     },
     "execution_count": 34,
     "metadata": {},
     "output_type": "execute_result"
    }
   ],
   "source": [
    "res = client.get('/crops/daily/dates')\n",
    "res.get_json()"
   ]
  },
  {
   "cell_type": "code",
   "execution_count": null,
   "metadata": {},
   "outputs": [],
   "source": []
  }
 ],
 "metadata": {
  "kernelspec": {
   "display_name": "Python 2",
   "language": "python",
   "name": "python2"
  },
  "language_info": {
   "codemirror_mode": {
    "name": "ipython",
    "version": 2
   },
   "file_extension": ".py",
   "mimetype": "text/x-python",
   "name": "python",
   "nbconvert_exporter": "python",
   "pygments_lexer": "ipython2",
   "version": "2.7.17"
  }
 },
 "nbformat": 4,
 "nbformat_minor": 2
}
